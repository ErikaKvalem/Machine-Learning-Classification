{
 "cells": [
  {
   "cell_type": "markdown",
   "metadata": {},
   "source": [
    "# Extract Transform and Load \n"
   ]
  },
  {
   "cell_type": "code",
   "execution_count": 1,
   "metadata": {},
   "outputs": [],
   "source": [
    "# libraries\n",
    "import numpy as np # used for handling numbers\n",
    "import pandas as pd # used for handling the dataset\n",
    "from sklearn.impute import SimpleImputer # used for handling missing data\n",
    "from sklearn.preprocessing import LabelEncoder, OneHotEncoder # used for encoding categorical data\n",
    "from sklearn.model_selection import train_test_split # used for splitting training and testing data\n",
    "from sklearn.preprocessing import StandardScaler # used for feature scaling\n",
    "from openpyxl import Workbook\n",
    "from sklearn import preprocessing\n",
    "import seaborn as sns\n",
    "import matplotlib.pyplot as plt\n",
    "from sklearn.linear_model import LinearRegression, LogisticRegression\n",
    "from sklearn.ensemble import RandomForestClassifier\n",
    "from sklearn.tree import DecisionTreeRegressor\n",
    "from sklearn.feature_selection import SelectKBest,SelectPercentile\n",
    "from sklearn.feature_selection import SelectFromModel\n",
    "from sklearn.feature_selection import VarianceThreshold\n",
    "from sklearn.preprocessing import StandardScaler\n",
    "from sklearn.metrics import accuracy_score, roc_auc_score\n",
    "%matplotlib inline\n",
    "from scipy import stats\n",
    "sns.set(color_codes=True)\n",
    "sns.set(style='whitegrid')\n",
    "import seaborn as sns"
   ]
  },
  {
   "cell_type": "markdown",
   "metadata": {},
   "source": [
    "### Load data set\n",
    "\n"
   ]
  },
  {
   "cell_type": "markdown",
   "metadata": {},
   "source": [
    "Introducing data with closed csr and significant features from BigML"
   ]
  },
  {
   "cell_type": "code",
   "execution_count": 2,
   "metadata": {},
   "outputs": [
    {
     "data": {
      "text/html": [
       "<div>\n",
       "<style scoped>\n",
       "    .dataframe tbody tr th:only-of-type {\n",
       "        vertical-align: middle;\n",
       "    }\n",
       "\n",
       "    .dataframe tbody tr th {\n",
       "        vertical-align: top;\n",
       "    }\n",
       "\n",
       "    .dataframe thead th {\n",
       "        text-align: right;\n",
       "    }\n",
       "</style>\n",
       "<table border=\"1\" class=\"dataframe\">\n",
       "  <thead>\n",
       "    <tr style=\"text-align: right;\">\n",
       "      <th></th>\n",
       "      <th>CSR ID</th>\n",
       "      <th>3PP (Vol)</th>\n",
       "      <th>CROU BP</th>\n",
       "      <th>3PP (Days)</th>\n",
       "      <th>Duration (Days)</th>\n",
       "      <th>Flag: CSR Backdated / Forwarded</th>\n",
       "      <th>Flag: Hot</th>\n",
       "      <th>Flag: Hot FTS</th>\n",
       "      <th>Flag: CB Backdated</th>\n",
       "      <th>CB Not Prov Overdue (Vol)</th>\n",
       "      <th>...</th>\n",
       "      <th>Date: REM Prov# Day</th>\n",
       "      <th>Date: RST Acc# DOW</th>\n",
       "      <th>Date: RST Acc# Year</th>\n",
       "      <th>Date: RST Acc# Month</th>\n",
       "      <th>Date: RST Acc# Day</th>\n",
       "      <th>Date: RST Prov# DOW</th>\n",
       "      <th>Date: RST Prov# Year</th>\n",
       "      <th>Date: RST Prov# Month</th>\n",
       "      <th>Date: RST Prov# Day</th>\n",
       "      <th>45DAYS</th>\n",
       "    </tr>\n",
       "  </thead>\n",
       "  <tbody>\n",
       "    <tr>\n",
       "      <th>count</th>\n",
       "      <td>6.467000e+03</td>\n",
       "      <td>6467.000000</td>\n",
       "      <td>6.467000e+03</td>\n",
       "      <td>6467.000000</td>\n",
       "      <td>6467.000000</td>\n",
       "      <td>6467.000000</td>\n",
       "      <td>6467.000000</td>\n",
       "      <td>6467.000000</td>\n",
       "      <td>6467.000000</td>\n",
       "      <td>6467.000000</td>\n",
       "      <td>...</td>\n",
       "      <td>6467.000000</td>\n",
       "      <td>6451.000000</td>\n",
       "      <td>6451.000000</td>\n",
       "      <td>6451.000000</td>\n",
       "      <td>6451.000000</td>\n",
       "      <td>6467.000000</td>\n",
       "      <td>6467.000000</td>\n",
       "      <td>6467.000000</td>\n",
       "      <td>6467.000000</td>\n",
       "      <td>6467.000000</td>\n",
       "    </tr>\n",
       "    <tr>\n",
       "      <th>mean</th>\n",
       "      <td>3.461264e+06</td>\n",
       "      <td>0.036648</td>\n",
       "      <td>1.122977e+06</td>\n",
       "      <td>0.369298</td>\n",
       "      <td>33.861965</td>\n",
       "      <td>0.410237</td>\n",
       "      <td>0.011443</td>\n",
       "      <td>0.002165</td>\n",
       "      <td>0.001082</td>\n",
       "      <td>0.002629</td>\n",
       "      <td>...</td>\n",
       "      <td>15.496057</td>\n",
       "      <td>2.452178</td>\n",
       "      <td>2018.559138</td>\n",
       "      <td>6.562083</td>\n",
       "      <td>15.216556</td>\n",
       "      <td>2.445956</td>\n",
       "      <td>2018.507036</td>\n",
       "      <td>6.543065</td>\n",
       "      <td>15.457244</td>\n",
       "      <td>0.223133</td>\n",
       "    </tr>\n",
       "    <tr>\n",
       "      <th>std</th>\n",
       "      <td>1.014512e+05</td>\n",
       "      <td>0.187910</td>\n",
       "      <td>6.344276e+03</td>\n",
       "      <td>5.110819</td>\n",
       "      <td>51.672347</td>\n",
       "      <td>0.491915</td>\n",
       "      <td>0.106365</td>\n",
       "      <td>0.046481</td>\n",
       "      <td>0.032885</td>\n",
       "      <td>0.051208</td>\n",
       "      <td>...</td>\n",
       "      <td>8.848649</td>\n",
       "      <td>1.787727</td>\n",
       "      <td>0.560203</td>\n",
       "      <td>3.531165</td>\n",
       "      <td>8.841976</td>\n",
       "      <td>1.776129</td>\n",
       "      <td>0.546964</td>\n",
       "      <td>3.545183</td>\n",
       "      <td>8.891351</td>\n",
       "      <td>0.416379</td>\n",
       "    </tr>\n",
       "    <tr>\n",
       "      <th>min</th>\n",
       "      <td>3.145537e+06</td>\n",
       "      <td>0.000000</td>\n",
       "      <td>1.102585e+06</td>\n",
       "      <td>-247.179820</td>\n",
       "      <td>0.001620</td>\n",
       "      <td>0.000000</td>\n",
       "      <td>0.000000</td>\n",
       "      <td>0.000000</td>\n",
       "      <td>0.000000</td>\n",
       "      <td>0.000000</td>\n",
       "      <td>...</td>\n",
       "      <td>1.000000</td>\n",
       "      <td>0.000000</td>\n",
       "      <td>2017.000000</td>\n",
       "      <td>1.000000</td>\n",
       "      <td>1.000000</td>\n",
       "      <td>0.000000</td>\n",
       "      <td>2017.000000</td>\n",
       "      <td>1.000000</td>\n",
       "      <td>1.000000</td>\n",
       "      <td>0.000000</td>\n",
       "    </tr>\n",
       "    <tr>\n",
       "      <th>25%</th>\n",
       "      <td>3.373896e+06</td>\n",
       "      <td>0.000000</td>\n",
       "      <td>1.124026e+06</td>\n",
       "      <td>0.000000</td>\n",
       "      <td>4.961865</td>\n",
       "      <td>0.000000</td>\n",
       "      <td>0.000000</td>\n",
       "      <td>0.000000</td>\n",
       "      <td>0.000000</td>\n",
       "      <td>0.000000</td>\n",
       "      <td>...</td>\n",
       "      <td>8.000000</td>\n",
       "      <td>1.000000</td>\n",
       "      <td>2018.000000</td>\n",
       "      <td>3.000000</td>\n",
       "      <td>7.000000</td>\n",
       "      <td>1.000000</td>\n",
       "      <td>2018.000000</td>\n",
       "      <td>3.000000</td>\n",
       "      <td>8.000000</td>\n",
       "      <td>0.000000</td>\n",
       "    </tr>\n",
       "    <tr>\n",
       "      <th>50%</th>\n",
       "      <td>3.463964e+06</td>\n",
       "      <td>0.000000</td>\n",
       "      <td>1.124026e+06</td>\n",
       "      <td>0.000000</td>\n",
       "      <td>16.800120</td>\n",
       "      <td>0.000000</td>\n",
       "      <td>0.000000</td>\n",
       "      <td>0.000000</td>\n",
       "      <td>0.000000</td>\n",
       "      <td>0.000000</td>\n",
       "      <td>...</td>\n",
       "      <td>16.000000</td>\n",
       "      <td>2.000000</td>\n",
       "      <td>2019.000000</td>\n",
       "      <td>7.000000</td>\n",
       "      <td>15.000000</td>\n",
       "      <td>2.000000</td>\n",
       "      <td>2019.000000</td>\n",
       "      <td>7.000000</td>\n",
       "      <td>16.000000</td>\n",
       "      <td>0.000000</td>\n",
       "    </tr>\n",
       "    <tr>\n",
       "      <th>75%</th>\n",
       "      <td>3.545502e+06</td>\n",
       "      <td>0.000000</td>\n",
       "      <td>1.124026e+06</td>\n",
       "      <td>0.000000</td>\n",
       "      <td>40.866835</td>\n",
       "      <td>1.000000</td>\n",
       "      <td>0.000000</td>\n",
       "      <td>0.000000</td>\n",
       "      <td>0.000000</td>\n",
       "      <td>0.000000</td>\n",
       "      <td>...</td>\n",
       "      <td>23.000000</td>\n",
       "      <td>4.000000</td>\n",
       "      <td>2019.000000</td>\n",
       "      <td>10.000000</td>\n",
       "      <td>23.000000</td>\n",
       "      <td>4.000000</td>\n",
       "      <td>2019.000000</td>\n",
       "      <td>10.000000</td>\n",
       "      <td>23.000000</td>\n",
       "      <td>0.000000</td>\n",
       "    </tr>\n",
       "    <tr>\n",
       "      <th>max</th>\n",
       "      <td>3.645045e+06</td>\n",
       "      <td>1.000000</td>\n",
       "      <td>1.245727e+06</td>\n",
       "      <td>167.724350</td>\n",
       "      <td>543.734180</td>\n",
       "      <td>1.000000</td>\n",
       "      <td>1.000000</td>\n",
       "      <td>1.000000</td>\n",
       "      <td>1.000000</td>\n",
       "      <td>1.000000</td>\n",
       "      <td>...</td>\n",
       "      <td>31.000000</td>\n",
       "      <td>6.000000</td>\n",
       "      <td>2020.000000</td>\n",
       "      <td>12.000000</td>\n",
       "      <td>31.000000</td>\n",
       "      <td>6.000000</td>\n",
       "      <td>2020.000000</td>\n",
       "      <td>12.000000</td>\n",
       "      <td>31.000000</td>\n",
       "      <td>1.000000</td>\n",
       "    </tr>\n",
       "  </tbody>\n",
       "</table>\n",
       "<p>8 rows × 93 columns</p>\n",
       "</div>"
      ],
      "text/plain": [
       "             CSR ID    3PP (Vol)       CROU BP   3PP (Days)  Duration (Days)  \\\n",
       "count  6.467000e+03  6467.000000  6.467000e+03  6467.000000      6467.000000   \n",
       "mean   3.461264e+06     0.036648  1.122977e+06     0.369298        33.861965   \n",
       "std    1.014512e+05     0.187910  6.344276e+03     5.110819        51.672347   \n",
       "min    3.145537e+06     0.000000  1.102585e+06  -247.179820         0.001620   \n",
       "25%    3.373896e+06     0.000000  1.124026e+06     0.000000         4.961865   \n",
       "50%    3.463964e+06     0.000000  1.124026e+06     0.000000        16.800120   \n",
       "75%    3.545502e+06     0.000000  1.124026e+06     0.000000        40.866835   \n",
       "max    3.645045e+06     1.000000  1.245727e+06   167.724350       543.734180   \n",
       "\n",
       "       Flag: CSR Backdated / Forwarded    Flag: Hot  Flag: Hot FTS  \\\n",
       "count                      6467.000000  6467.000000    6467.000000   \n",
       "mean                          0.410237     0.011443       0.002165   \n",
       "std                           0.491915     0.106365       0.046481   \n",
       "min                           0.000000     0.000000       0.000000   \n",
       "25%                           0.000000     0.000000       0.000000   \n",
       "50%                           0.000000     0.000000       0.000000   \n",
       "75%                           1.000000     0.000000       0.000000   \n",
       "max                           1.000000     1.000000       1.000000   \n",
       "\n",
       "       Flag: CB Backdated  CB Not Prov Overdue (Vol)  ...  \\\n",
       "count         6467.000000                6467.000000  ...   \n",
       "mean             0.001082                   0.002629  ...   \n",
       "std              0.032885                   0.051208  ...   \n",
       "min              0.000000                   0.000000  ...   \n",
       "25%              0.000000                   0.000000  ...   \n",
       "50%              0.000000                   0.000000  ...   \n",
       "75%              0.000000                   0.000000  ...   \n",
       "max              1.000000                   1.000000  ...   \n",
       "\n",
       "       Date: REM Prov# Day  Date: RST Acc# DOW  Date: RST Acc# Year  \\\n",
       "count          6467.000000         6451.000000          6451.000000   \n",
       "mean             15.496057            2.452178          2018.559138   \n",
       "std               8.848649            1.787727             0.560203   \n",
       "min               1.000000            0.000000          2017.000000   \n",
       "25%               8.000000            1.000000          2018.000000   \n",
       "50%              16.000000            2.000000          2019.000000   \n",
       "75%              23.000000            4.000000          2019.000000   \n",
       "max              31.000000            6.000000          2020.000000   \n",
       "\n",
       "       Date: RST Acc# Month  Date: RST Acc# Day  Date: RST Prov# DOW  \\\n",
       "count           6451.000000         6451.000000          6467.000000   \n",
       "mean               6.562083           15.216556             2.445956   \n",
       "std                3.531165            8.841976             1.776129   \n",
       "min                1.000000            1.000000             0.000000   \n",
       "25%                3.000000            7.000000             1.000000   \n",
       "50%                7.000000           15.000000             2.000000   \n",
       "75%               10.000000           23.000000             4.000000   \n",
       "max               12.000000           31.000000             6.000000   \n",
       "\n",
       "       Date: RST Prov# Year  Date: RST Prov# Month  Date: RST Prov# Day  \\\n",
       "count           6467.000000            6467.000000          6467.000000   \n",
       "mean            2018.507036               6.543065            15.457244   \n",
       "std                0.546964               3.545183             8.891351   \n",
       "min             2017.000000               1.000000             1.000000   \n",
       "25%             2018.000000               3.000000             8.000000   \n",
       "50%             2019.000000               7.000000            16.000000   \n",
       "75%             2019.000000              10.000000            23.000000   \n",
       "max             2020.000000              12.000000            31.000000   \n",
       "\n",
       "            45DAYS  \n",
       "count  6467.000000  \n",
       "mean      0.223133  \n",
       "std       0.416379  \n",
       "min       0.000000  \n",
       "25%       0.000000  \n",
       "50%       0.000000  \n",
       "75%       0.000000  \n",
       "max       1.000000  \n",
       "\n",
       "[8 rows x 93 columns]"
      ]
     },
     "execution_count": 2,
     "metadata": {},
     "output_type": "execute_result"
    }
   ],
   "source": [
    "\n",
    "df = pd.read_excel('../Data/Prepared/AllColumns_AllDates_OnlyClosed_2Classes.xlsx')\n",
    "#df2 = pd.read_excel('../Data/Prepared/Backlog_Analysis_04_closed_all_columns.xlsx') #categorization\n",
    "#df3 = pd.read_excel('../Data/Prepared/Backlog_Analysis_04_closed_all_columns.xlsx') #for modeling\n",
    "df.describe()"
   ]
  },
  {
   "cell_type": "code",
   "execution_count": 3,
   "metadata": {},
   "outputs": [
    {
     "data": {
      "text/html": [
       "<div>\n",
       "<style scoped>\n",
       "    .dataframe tbody tr th:only-of-type {\n",
       "        vertical-align: middle;\n",
       "    }\n",
       "\n",
       "    .dataframe tbody tr th {\n",
       "        vertical-align: top;\n",
       "    }\n",
       "\n",
       "    .dataframe thead th {\n",
       "        text-align: right;\n",
       "    }\n",
       "</style>\n",
       "<table border=\"1\" class=\"dataframe\">\n",
       "  <thead>\n",
       "    <tr style=\"text-align: right;\">\n",
       "      <th></th>\n",
       "      <th>CSR ID</th>\n",
       "      <th>3PP (Vol)</th>\n",
       "      <th>Business Units</th>\n",
       "      <th>Competence Domain</th>\n",
       "      <th>Competence SubDomain</th>\n",
       "      <th>Contract Type</th>\n",
       "      <th>CNS</th>\n",
       "      <th>CROU BP</th>\n",
       "      <th>3PP (Days)</th>\n",
       "      <th>Duration (Days)</th>\n",
       "      <th>...</th>\n",
       "      <th>Date: REM Prov# Day</th>\n",
       "      <th>Date: RST Acc# DOW</th>\n",
       "      <th>Date: RST Acc# Year</th>\n",
       "      <th>Date: RST Acc# Month</th>\n",
       "      <th>Date: RST Acc# Day</th>\n",
       "      <th>Date: RST Prov# DOW</th>\n",
       "      <th>Date: RST Prov# Year</th>\n",
       "      <th>Date: RST Prov# Month</th>\n",
       "      <th>Date: RST Prov# Day</th>\n",
       "      <th>45DAYS</th>\n",
       "    </tr>\n",
       "  </thead>\n",
       "  <tbody>\n",
       "    <tr>\n",
       "      <th>0</th>\n",
       "      <td>3145537</td>\n",
       "      <td>0</td>\n",
       "      <td>BDGS</td>\n",
       "      <td>OSS</td>\n",
       "      <td>SERVICE MANAGEMENT</td>\n",
       "      <td>Advanced</td>\n",
       "      <td>ARCHIVED - *EEM/VODAFON</td>\n",
       "      <td>1124025</td>\n",
       "      <td>0.0</td>\n",
       "      <td>334.75487</td>\n",
       "      <td>...</td>\n",
       "      <td>14</td>\n",
       "      <td>0.0</td>\n",
       "      <td>2018.0</td>\n",
       "      <td>1.0</td>\n",
       "      <td>15.0</td>\n",
       "      <td>2</td>\n",
       "      <td>2017</td>\n",
       "      <td>4</td>\n",
       "      <td>19</td>\n",
       "      <td>1</td>\n",
       "    </tr>\n",
       "    <tr>\n",
       "      <th>1</th>\n",
       "      <td>3212336</td>\n",
       "      <td>0</td>\n",
       "      <td>BDGS;BICS</td>\n",
       "      <td>OSS</td>\n",
       "      <td>SERVICE MANAGEMENT</td>\n",
       "      <td>Advanced</td>\n",
       "      <td>ARCHIVED - *EEM/VODAFON</td>\n",
       "      <td>1124025</td>\n",
       "      <td>0.0</td>\n",
       "      <td>239.24635</td>\n",
       "      <td>...</td>\n",
       "      <td>20</td>\n",
       "      <td>2.0</td>\n",
       "      <td>2018.0</td>\n",
       "      <td>2.0</td>\n",
       "      <td>14.0</td>\n",
       "      <td>6</td>\n",
       "      <td>2017</td>\n",
       "      <td>10</td>\n",
       "      <td>8</td>\n",
       "      <td>1</td>\n",
       "    </tr>\n",
       "    <tr>\n",
       "      <th>2</th>\n",
       "      <td>3243118</td>\n",
       "      <td>0</td>\n",
       "      <td>BNES;BNEW</td>\n",
       "      <td>Local</td>\n",
       "      <td>LOCAL</td>\n",
       "      <td>Advanced</td>\n",
       "      <td>IBMO/CNS</td>\n",
       "      <td>1124026</td>\n",
       "      <td>0.0</td>\n",
       "      <td>155.25679</td>\n",
       "      <td>...</td>\n",
       "      <td>22</td>\n",
       "      <td>1.0</td>\n",
       "      <td>2019.0</td>\n",
       "      <td>1.0</td>\n",
       "      <td>22.0</td>\n",
       "      <td>3</td>\n",
       "      <td>2018</td>\n",
       "      <td>12</td>\n",
       "      <td>27</td>\n",
       "      <td>1</td>\n",
       "    </tr>\n",
       "    <tr>\n",
       "      <th>3</th>\n",
       "      <td>3251878</td>\n",
       "      <td>0</td>\n",
       "      <td>BNES;BNEW</td>\n",
       "      <td>IP, Broadband &amp; Core</td>\n",
       "      <td>MOBILE SWITCHING</td>\n",
       "      <td>Advanced</td>\n",
       "      <td>ARCHIVED - *EEM/VODAFON</td>\n",
       "      <td>1124025</td>\n",
       "      <td>0.0</td>\n",
       "      <td>117.29055</td>\n",
       "      <td>...</td>\n",
       "      <td>20</td>\n",
       "      <td>1.0</td>\n",
       "      <td>2018.0</td>\n",
       "      <td>9.0</td>\n",
       "      <td>4.0</td>\n",
       "      <td>2</td>\n",
       "      <td>2017</td>\n",
       "      <td>12</td>\n",
       "      <td>20</td>\n",
       "      <td>1</td>\n",
       "    </tr>\n",
       "    <tr>\n",
       "      <th>4</th>\n",
       "      <td>3257192</td>\n",
       "      <td>0</td>\n",
       "      <td>BDGS;BICS</td>\n",
       "      <td>BSS</td>\n",
       "      <td>CHARGING, MM AND SERVENABLE</td>\n",
       "      <td>Advanced</td>\n",
       "      <td>IBMO/CNS</td>\n",
       "      <td>1124026</td>\n",
       "      <td>0.0</td>\n",
       "      <td>63.90988</td>\n",
       "      <td>...</td>\n",
       "      <td>27</td>\n",
       "      <td>0.0</td>\n",
       "      <td>2018.0</td>\n",
       "      <td>4.0</td>\n",
       "      <td>16.0</td>\n",
       "      <td>1</td>\n",
       "      <td>2018</td>\n",
       "      <td>2</td>\n",
       "      <td>27</td>\n",
       "      <td>1</td>\n",
       "    </tr>\n",
       "  </tbody>\n",
       "</table>\n",
       "<p>5 rows × 124 columns</p>\n",
       "</div>"
      ],
      "text/plain": [
       "    CSR ID  3PP (Vol) Business Units     Competence Domain  \\\n",
       "0  3145537          0           BDGS                   OSS   \n",
       "1  3212336          0      BDGS;BICS                   OSS   \n",
       "2  3243118          0      BNES;BNEW                 Local   \n",
       "3  3251878          0      BNES;BNEW  IP, Broadband & Core   \n",
       "4  3257192          0      BDGS;BICS                   BSS   \n",
       "\n",
       "          Competence SubDomain Contract Type                      CNS  \\\n",
       "0           SERVICE MANAGEMENT      Advanced  ARCHIVED - *EEM/VODAFON   \n",
       "1           SERVICE MANAGEMENT      Advanced  ARCHIVED - *EEM/VODAFON   \n",
       "2                        LOCAL      Advanced                 IBMO/CNS   \n",
       "3             MOBILE SWITCHING      Advanced  ARCHIVED - *EEM/VODAFON   \n",
       "4  CHARGING, MM AND SERVENABLE      Advanced                 IBMO/CNS   \n",
       "\n",
       "   CROU BP  3PP (Days)  Duration (Days)  ...  Date: REM Prov# Day  \\\n",
       "0  1124025         0.0        334.75487  ...                   14   \n",
       "1  1124025         0.0        239.24635  ...                   20   \n",
       "2  1124026         0.0        155.25679  ...                   22   \n",
       "3  1124025         0.0        117.29055  ...                   20   \n",
       "4  1124026         0.0         63.90988  ...                   27   \n",
       "\n",
       "   Date: RST Acc# DOW  Date: RST Acc# Year Date: RST Acc# Month  \\\n",
       "0                 0.0               2018.0                  1.0   \n",
       "1                 2.0               2018.0                  2.0   \n",
       "2                 1.0               2019.0                  1.0   \n",
       "3                 1.0               2018.0                  9.0   \n",
       "4                 0.0               2018.0                  4.0   \n",
       "\n",
       "   Date: RST Acc# Day  Date: RST Prov# DOW  Date: RST Prov# Year  \\\n",
       "0                15.0                    2                  2017   \n",
       "1                14.0                    6                  2017   \n",
       "2                22.0                    3                  2018   \n",
       "3                 4.0                    2                  2017   \n",
       "4                16.0                    1                  2018   \n",
       "\n",
       "   Date: RST Prov# Month  Date: RST Prov# Day 45DAYS  \n",
       "0                      4                   19      1  \n",
       "1                     10                    8      1  \n",
       "2                     12                   27      1  \n",
       "3                     12                   20      1  \n",
       "4                      2                   27      1  \n",
       "\n",
       "[5 rows x 124 columns]"
      ]
     },
     "execution_count": 3,
     "metadata": {},
     "output_type": "execute_result"
    }
   ],
   "source": [
    "df.head()"
   ]
  },
  {
   "cell_type": "code",
   "execution_count": 4,
   "metadata": {},
   "outputs": [
    {
     "name": "stdout",
     "output_type": "stream",
     "text": [
      "<class 'pandas.core.frame.DataFrame'>\n",
      "RangeIndex: 6467 entries, 0 to 6466\n",
      "Columns: 124 entries, CSR ID to 45DAYS\n",
      "dtypes: float64(24), int64(69), object(31)\n",
      "memory usage: 5.4+ MB\n"
     ]
    }
   ],
   "source": [
    "df.info()"
   ]
  },
  {
   "cell_type": "markdown",
   "metadata": {},
   "source": [
    "* This data set is filtered in SQL with only Finished & Follow up regiters. 84 columns + 3 target variables \n",
    "* Variables are selected based on results from BigML"
   ]
  },
  {
   "cell_type": "code",
   "execution_count": 5,
   "metadata": {},
   "outputs": [],
   "source": [
    "df[\"45DAYS\"] = df[\"45DAYS\"].astype(int)"
   ]
  },
  {
   "cell_type": "code",
   "execution_count": 6,
   "metadata": {},
   "outputs": [
    {
     "data": {
      "text/plain": [
       "0    5024\n",
       "1    1443\n",
       "Name: 45DAYS, dtype: int64"
      ]
     },
     "execution_count": 6,
     "metadata": {},
     "output_type": "execute_result"
    }
   ],
   "source": [
    "df[\"45DAYS\"].value_counts()"
   ]
  },
  {
   "cell_type": "code",
   "execution_count": 7,
   "metadata": {},
   "outputs": [
    {
     "data": {
      "text/html": [
       "<div>\n",
       "<style scoped>\n",
       "    .dataframe tbody tr th:only-of-type {\n",
       "        vertical-align: middle;\n",
       "    }\n",
       "\n",
       "    .dataframe tbody tr th {\n",
       "        vertical-align: top;\n",
       "    }\n",
       "\n",
       "    .dataframe thead th {\n",
       "        text-align: right;\n",
       "    }\n",
       "</style>\n",
       "<table border=\"1\" class=\"dataframe\">\n",
       "  <thead>\n",
       "    <tr style=\"text-align: right;\">\n",
       "      <th></th>\n",
       "      <th>CSR ID</th>\n",
       "      <th>3PP (Vol)</th>\n",
       "      <th>Business Units</th>\n",
       "      <th>Competence Domain</th>\n",
       "      <th>Competence SubDomain</th>\n",
       "      <th>Contract Type</th>\n",
       "      <th>CNS</th>\n",
       "      <th>CROU BP</th>\n",
       "      <th>3PP (Days)</th>\n",
       "      <th>Duration (Days)</th>\n",
       "      <th>...</th>\n",
       "      <th>Date: REM Prov# Day</th>\n",
       "      <th>Date: RST Acc# DOW</th>\n",
       "      <th>Date: RST Acc# Year</th>\n",
       "      <th>Date: RST Acc# Month</th>\n",
       "      <th>Date: RST Acc# Day</th>\n",
       "      <th>Date: RST Prov# DOW</th>\n",
       "      <th>Date: RST Prov# Year</th>\n",
       "      <th>Date: RST Prov# Month</th>\n",
       "      <th>Date: RST Prov# Day</th>\n",
       "      <th>45DAYS</th>\n",
       "    </tr>\n",
       "  </thead>\n",
       "  <tbody>\n",
       "    <tr>\n",
       "      <th>0</th>\n",
       "      <td>3145537</td>\n",
       "      <td>0</td>\n",
       "      <td>BDGS</td>\n",
       "      <td>OSS</td>\n",
       "      <td>SERVICE MANAGEMENT</td>\n",
       "      <td>Advanced</td>\n",
       "      <td>ARCHIVED - *EEM/VODAFON</td>\n",
       "      <td>1124025</td>\n",
       "      <td>0.0</td>\n",
       "      <td>334.75487</td>\n",
       "      <td>...</td>\n",
       "      <td>14</td>\n",
       "      <td>0.0</td>\n",
       "      <td>2018.0</td>\n",
       "      <td>1.0</td>\n",
       "      <td>15.0</td>\n",
       "      <td>2</td>\n",
       "      <td>2017</td>\n",
       "      <td>4</td>\n",
       "      <td>19</td>\n",
       "      <td>1</td>\n",
       "    </tr>\n",
       "    <tr>\n",
       "      <th>1</th>\n",
       "      <td>3212336</td>\n",
       "      <td>0</td>\n",
       "      <td>BDGS;BICS</td>\n",
       "      <td>OSS</td>\n",
       "      <td>SERVICE MANAGEMENT</td>\n",
       "      <td>Advanced</td>\n",
       "      <td>ARCHIVED - *EEM/VODAFON</td>\n",
       "      <td>1124025</td>\n",
       "      <td>0.0</td>\n",
       "      <td>239.24635</td>\n",
       "      <td>...</td>\n",
       "      <td>20</td>\n",
       "      <td>2.0</td>\n",
       "      <td>2018.0</td>\n",
       "      <td>2.0</td>\n",
       "      <td>14.0</td>\n",
       "      <td>6</td>\n",
       "      <td>2017</td>\n",
       "      <td>10</td>\n",
       "      <td>8</td>\n",
       "      <td>1</td>\n",
       "    </tr>\n",
       "    <tr>\n",
       "      <th>2</th>\n",
       "      <td>3243118</td>\n",
       "      <td>0</td>\n",
       "      <td>BNES;BNEW</td>\n",
       "      <td>Local</td>\n",
       "      <td>LOCAL</td>\n",
       "      <td>Advanced</td>\n",
       "      <td>IBMO/CNS</td>\n",
       "      <td>1124026</td>\n",
       "      <td>0.0</td>\n",
       "      <td>155.25679</td>\n",
       "      <td>...</td>\n",
       "      <td>22</td>\n",
       "      <td>1.0</td>\n",
       "      <td>2019.0</td>\n",
       "      <td>1.0</td>\n",
       "      <td>22.0</td>\n",
       "      <td>3</td>\n",
       "      <td>2018</td>\n",
       "      <td>12</td>\n",
       "      <td>27</td>\n",
       "      <td>1</td>\n",
       "    </tr>\n",
       "    <tr>\n",
       "      <th>3</th>\n",
       "      <td>3251878</td>\n",
       "      <td>0</td>\n",
       "      <td>BNES;BNEW</td>\n",
       "      <td>IP, Broadband &amp; Core</td>\n",
       "      <td>MOBILE SWITCHING</td>\n",
       "      <td>Advanced</td>\n",
       "      <td>ARCHIVED - *EEM/VODAFON</td>\n",
       "      <td>1124025</td>\n",
       "      <td>0.0</td>\n",
       "      <td>117.29055</td>\n",
       "      <td>...</td>\n",
       "      <td>20</td>\n",
       "      <td>1.0</td>\n",
       "      <td>2018.0</td>\n",
       "      <td>9.0</td>\n",
       "      <td>4.0</td>\n",
       "      <td>2</td>\n",
       "      <td>2017</td>\n",
       "      <td>12</td>\n",
       "      <td>20</td>\n",
       "      <td>1</td>\n",
       "    </tr>\n",
       "    <tr>\n",
       "      <th>4</th>\n",
       "      <td>3257192</td>\n",
       "      <td>0</td>\n",
       "      <td>BDGS;BICS</td>\n",
       "      <td>BSS</td>\n",
       "      <td>CHARGING, MM AND SERVENABLE</td>\n",
       "      <td>Advanced</td>\n",
       "      <td>IBMO/CNS</td>\n",
       "      <td>1124026</td>\n",
       "      <td>0.0</td>\n",
       "      <td>63.90988</td>\n",
       "      <td>...</td>\n",
       "      <td>27</td>\n",
       "      <td>0.0</td>\n",
       "      <td>2018.0</td>\n",
       "      <td>4.0</td>\n",
       "      <td>16.0</td>\n",
       "      <td>1</td>\n",
       "      <td>2018</td>\n",
       "      <td>2</td>\n",
       "      <td>27</td>\n",
       "      <td>1</td>\n",
       "    </tr>\n",
       "  </tbody>\n",
       "</table>\n",
       "<p>5 rows × 124 columns</p>\n",
       "</div>"
      ],
      "text/plain": [
       "    CSR ID  3PP (Vol) Business Units     Competence Domain  \\\n",
       "0  3145537          0           BDGS                   OSS   \n",
       "1  3212336          0      BDGS;BICS                   OSS   \n",
       "2  3243118          0      BNES;BNEW                 Local   \n",
       "3  3251878          0      BNES;BNEW  IP, Broadband & Core   \n",
       "4  3257192          0      BDGS;BICS                   BSS   \n",
       "\n",
       "          Competence SubDomain Contract Type                      CNS  \\\n",
       "0           SERVICE MANAGEMENT      Advanced  ARCHIVED - *EEM/VODAFON   \n",
       "1           SERVICE MANAGEMENT      Advanced  ARCHIVED - *EEM/VODAFON   \n",
       "2                        LOCAL      Advanced                 IBMO/CNS   \n",
       "3             MOBILE SWITCHING      Advanced  ARCHIVED - *EEM/VODAFON   \n",
       "4  CHARGING, MM AND SERVENABLE      Advanced                 IBMO/CNS   \n",
       "\n",
       "   CROU BP  3PP (Days)  Duration (Days)  ...  Date: REM Prov# Day  \\\n",
       "0  1124025         0.0        334.75487  ...                   14   \n",
       "1  1124025         0.0        239.24635  ...                   20   \n",
       "2  1124026         0.0        155.25679  ...                   22   \n",
       "3  1124025         0.0        117.29055  ...                   20   \n",
       "4  1124026         0.0         63.90988  ...                   27   \n",
       "\n",
       "   Date: RST Acc# DOW  Date: RST Acc# Year Date: RST Acc# Month  \\\n",
       "0                 0.0               2018.0                  1.0   \n",
       "1                 2.0               2018.0                  2.0   \n",
       "2                 1.0               2019.0                  1.0   \n",
       "3                 1.0               2018.0                  9.0   \n",
       "4                 0.0               2018.0                  4.0   \n",
       "\n",
       "   Date: RST Acc# Day  Date: RST Prov# DOW  Date: RST Prov# Year  \\\n",
       "0                15.0                    2                  2017   \n",
       "1                14.0                    6                  2017   \n",
       "2                22.0                    3                  2018   \n",
       "3                 4.0                    2                  2017   \n",
       "4                16.0                    1                  2018   \n",
       "\n",
       "   Date: RST Prov# Month  Date: RST Prov# Day 45DAYS  \n",
       "0                      4                   19      1  \n",
       "1                     10                    8      1  \n",
       "2                     12                   27      1  \n",
       "3                     12                   20      1  \n",
       "4                      2                   27      1  \n",
       "\n",
       "[5 rows x 124 columns]"
      ]
     },
     "execution_count": 7,
     "metadata": {},
     "output_type": "execute_result"
    }
   ],
   "source": [
    "df.head()"
   ]
  },
  {
   "cell_type": "markdown",
   "metadata": {},
   "source": [
    "### Mapping TRUE/FALSE to 0/1 and creating a target variable with 4 classes\n",
    "*  L22DAYS=1 Less than 35 days Stretched\n",
    "*  M22L45=2 More than 35 less than 40 Commitment\n",
    "*\n",
    "*  M45DAYS=0 More than 45 Off-Track"
   ]
  },
  {
   "cell_type": "code",
   "execution_count": 8,
   "metadata": {},
   "outputs": [
    {
     "data": {
      "text/plain": [
       "0    5024\n",
       "1    1443\n",
       "Name: 45DAYS, dtype: int64"
      ]
     },
     "execution_count": 8,
     "metadata": {},
     "output_type": "execute_result"
    }
   ],
   "source": [
    "df[\"45DAYS\"].value_counts()"
   ]
  },
  {
   "cell_type": "code",
   "execution_count": null,
   "metadata": {},
   "outputs": [],
   "source": []
  },
  {
   "cell_type": "code",
   "execution_count": 9,
   "metadata": {},
   "outputs": [],
   "source": [
    "\n",
    "\n",
    "# find all rows that fulfills your conditions and set class to 1\n",
    "#df.loc[(df['45DAYS']==1), # if total is > 100 \n",
    "    # 'Class'] = 1 # then set class to 1"
   ]
  },
  {
   "cell_type": "code",
   "execution_count": 10,
   "metadata": {
    "scrolled": true
   },
   "outputs": [
    {
     "data": {
      "text/html": [
       "<div>\n",
       "<style scoped>\n",
       "    .dataframe tbody tr th:only-of-type {\n",
       "        vertical-align: middle;\n",
       "    }\n",
       "\n",
       "    .dataframe tbody tr th {\n",
       "        vertical-align: top;\n",
       "    }\n",
       "\n",
       "    .dataframe thead th {\n",
       "        text-align: right;\n",
       "    }\n",
       "</style>\n",
       "<table border=\"1\" class=\"dataframe\">\n",
       "  <thead>\n",
       "    <tr style=\"text-align: right;\">\n",
       "      <th></th>\n",
       "      <th>CSR ID</th>\n",
       "      <th>3PP (Vol)</th>\n",
       "      <th>Business Units</th>\n",
       "      <th>Competence Domain</th>\n",
       "      <th>Competence SubDomain</th>\n",
       "      <th>Contract Type</th>\n",
       "      <th>CNS</th>\n",
       "      <th>CROU BP</th>\n",
       "      <th>3PP (Days)</th>\n",
       "      <th>Duration (Days)</th>\n",
       "      <th>...</th>\n",
       "      <th>Date: REM Prov# Day</th>\n",
       "      <th>Date: RST Acc# DOW</th>\n",
       "      <th>Date: RST Acc# Year</th>\n",
       "      <th>Date: RST Acc# Month</th>\n",
       "      <th>Date: RST Acc# Day</th>\n",
       "      <th>Date: RST Prov# DOW</th>\n",
       "      <th>Date: RST Prov# Year</th>\n",
       "      <th>Date: RST Prov# Month</th>\n",
       "      <th>Date: RST Prov# Day</th>\n",
       "      <th>45DAYS</th>\n",
       "    </tr>\n",
       "  </thead>\n",
       "  <tbody>\n",
       "    <tr>\n",
       "      <th>0</th>\n",
       "      <td>3145537</td>\n",
       "      <td>0</td>\n",
       "      <td>BDGS</td>\n",
       "      <td>OSS</td>\n",
       "      <td>SERVICE MANAGEMENT</td>\n",
       "      <td>Advanced</td>\n",
       "      <td>ARCHIVED - *EEM/VODAFON</td>\n",
       "      <td>1124025</td>\n",
       "      <td>0.0</td>\n",
       "      <td>334.75487</td>\n",
       "      <td>...</td>\n",
       "      <td>14</td>\n",
       "      <td>0.0</td>\n",
       "      <td>2018.0</td>\n",
       "      <td>1.0</td>\n",
       "      <td>15.0</td>\n",
       "      <td>2</td>\n",
       "      <td>2017</td>\n",
       "      <td>4</td>\n",
       "      <td>19</td>\n",
       "      <td>1</td>\n",
       "    </tr>\n",
       "    <tr>\n",
       "      <th>1</th>\n",
       "      <td>3212336</td>\n",
       "      <td>0</td>\n",
       "      <td>BDGS;BICS</td>\n",
       "      <td>OSS</td>\n",
       "      <td>SERVICE MANAGEMENT</td>\n",
       "      <td>Advanced</td>\n",
       "      <td>ARCHIVED - *EEM/VODAFON</td>\n",
       "      <td>1124025</td>\n",
       "      <td>0.0</td>\n",
       "      <td>239.24635</td>\n",
       "      <td>...</td>\n",
       "      <td>20</td>\n",
       "      <td>2.0</td>\n",
       "      <td>2018.0</td>\n",
       "      <td>2.0</td>\n",
       "      <td>14.0</td>\n",
       "      <td>6</td>\n",
       "      <td>2017</td>\n",
       "      <td>10</td>\n",
       "      <td>8</td>\n",
       "      <td>1</td>\n",
       "    </tr>\n",
       "    <tr>\n",
       "      <th>2</th>\n",
       "      <td>3243118</td>\n",
       "      <td>0</td>\n",
       "      <td>BNES;BNEW</td>\n",
       "      <td>Local</td>\n",
       "      <td>LOCAL</td>\n",
       "      <td>Advanced</td>\n",
       "      <td>IBMO/CNS</td>\n",
       "      <td>1124026</td>\n",
       "      <td>0.0</td>\n",
       "      <td>155.25679</td>\n",
       "      <td>...</td>\n",
       "      <td>22</td>\n",
       "      <td>1.0</td>\n",
       "      <td>2019.0</td>\n",
       "      <td>1.0</td>\n",
       "      <td>22.0</td>\n",
       "      <td>3</td>\n",
       "      <td>2018</td>\n",
       "      <td>12</td>\n",
       "      <td>27</td>\n",
       "      <td>1</td>\n",
       "    </tr>\n",
       "    <tr>\n",
       "      <th>3</th>\n",
       "      <td>3251878</td>\n",
       "      <td>0</td>\n",
       "      <td>BNES;BNEW</td>\n",
       "      <td>IP, Broadband &amp; Core</td>\n",
       "      <td>MOBILE SWITCHING</td>\n",
       "      <td>Advanced</td>\n",
       "      <td>ARCHIVED - *EEM/VODAFON</td>\n",
       "      <td>1124025</td>\n",
       "      <td>0.0</td>\n",
       "      <td>117.29055</td>\n",
       "      <td>...</td>\n",
       "      <td>20</td>\n",
       "      <td>1.0</td>\n",
       "      <td>2018.0</td>\n",
       "      <td>9.0</td>\n",
       "      <td>4.0</td>\n",
       "      <td>2</td>\n",
       "      <td>2017</td>\n",
       "      <td>12</td>\n",
       "      <td>20</td>\n",
       "      <td>1</td>\n",
       "    </tr>\n",
       "    <tr>\n",
       "      <th>4</th>\n",
       "      <td>3257192</td>\n",
       "      <td>0</td>\n",
       "      <td>BDGS;BICS</td>\n",
       "      <td>BSS</td>\n",
       "      <td>CHARGING, MM AND SERVENABLE</td>\n",
       "      <td>Advanced</td>\n",
       "      <td>IBMO/CNS</td>\n",
       "      <td>1124026</td>\n",
       "      <td>0.0</td>\n",
       "      <td>63.90988</td>\n",
       "      <td>...</td>\n",
       "      <td>27</td>\n",
       "      <td>0.0</td>\n",
       "      <td>2018.0</td>\n",
       "      <td>4.0</td>\n",
       "      <td>16.0</td>\n",
       "      <td>1</td>\n",
       "      <td>2018</td>\n",
       "      <td>2</td>\n",
       "      <td>27</td>\n",
       "      <td>1</td>\n",
       "    </tr>\n",
       "  </tbody>\n",
       "</table>\n",
       "<p>5 rows × 124 columns</p>\n",
       "</div>"
      ],
      "text/plain": [
       "    CSR ID  3PP (Vol) Business Units     Competence Domain  \\\n",
       "0  3145537          0           BDGS                   OSS   \n",
       "1  3212336          0      BDGS;BICS                   OSS   \n",
       "2  3243118          0      BNES;BNEW                 Local   \n",
       "3  3251878          0      BNES;BNEW  IP, Broadband & Core   \n",
       "4  3257192          0      BDGS;BICS                   BSS   \n",
       "\n",
       "          Competence SubDomain Contract Type                      CNS  \\\n",
       "0           SERVICE MANAGEMENT      Advanced  ARCHIVED - *EEM/VODAFON   \n",
       "1           SERVICE MANAGEMENT      Advanced  ARCHIVED - *EEM/VODAFON   \n",
       "2                        LOCAL      Advanced                 IBMO/CNS   \n",
       "3             MOBILE SWITCHING      Advanced  ARCHIVED - *EEM/VODAFON   \n",
       "4  CHARGING, MM AND SERVENABLE      Advanced                 IBMO/CNS   \n",
       "\n",
       "   CROU BP  3PP (Days)  Duration (Days)  ...  Date: REM Prov# Day  \\\n",
       "0  1124025         0.0        334.75487  ...                   14   \n",
       "1  1124025         0.0        239.24635  ...                   20   \n",
       "2  1124026         0.0        155.25679  ...                   22   \n",
       "3  1124025         0.0        117.29055  ...                   20   \n",
       "4  1124026         0.0         63.90988  ...                   27   \n",
       "\n",
       "   Date: RST Acc# DOW  Date: RST Acc# Year Date: RST Acc# Month  \\\n",
       "0                 0.0               2018.0                  1.0   \n",
       "1                 2.0               2018.0                  2.0   \n",
       "2                 1.0               2019.0                  1.0   \n",
       "3                 1.0               2018.0                  9.0   \n",
       "4                 0.0               2018.0                  4.0   \n",
       "\n",
       "   Date: RST Acc# Day  Date: RST Prov# DOW  Date: RST Prov# Year  \\\n",
       "0                15.0                    2                  2017   \n",
       "1                14.0                    6                  2017   \n",
       "2                22.0                    3                  2018   \n",
       "3                 4.0                    2                  2017   \n",
       "4                16.0                    1                  2018   \n",
       "\n",
       "   Date: RST Prov# Month  Date: RST Prov# Day 45DAYS  \n",
       "0                      4                   19      1  \n",
       "1                     10                    8      1  \n",
       "2                     12                   27      1  \n",
       "3                     12                   20      1  \n",
       "4                      2                   27      1  \n",
       "\n",
       "[5 rows x 124 columns]"
      ]
     },
     "execution_count": 10,
     "metadata": {},
     "output_type": "execute_result"
    }
   ],
   "source": [
    "df.head()"
   ]
  },
  {
   "cell_type": "code",
   "execution_count": 11,
   "metadata": {},
   "outputs": [
    {
     "data": {
      "image/png": "[encoded data removed]",
      "text/plain": [
       "<Figure size 432x288 with 1 Axes>"
      ]
     },
     "metadata": {},
     "output_type": "display_data"
    }
   ],
   "source": [
    "sns.distplot(df[\"45DAYS\"]);"
   ]
  },
  {
   "cell_type": "code",
   "execution_count": 12,
   "metadata": {},
   "outputs": [
    {
     "data": {
      "text/plain": [
       "0    5024\n",
       "1    1443\n",
       "Name: 45DAYS, dtype: int64"
      ]
     },
     "execution_count": 12,
     "metadata": {},
     "output_type": "execute_result"
    }
   ],
   "source": [
    "df[\"45DAYS\"].value_counts()"
   ]
  },
  {
   "cell_type": "code",
   "execution_count": 13,
   "metadata": {},
   "outputs": [
    {
     "data": {
      "text/plain": [
       "CSR ID                    0\n",
       "3PP (Vol)                 0\n",
       "Business Units           11\n",
       "Competence Domain         0\n",
       "Competence SubDomain      0\n",
       "                         ..\n",
       "Date: RST Prov# DOW       0\n",
       "Date: RST Prov# Year      0\n",
       "Date: RST Prov# Month     0\n",
       "Date: RST Prov# Day       0\n",
       "45DAYS                    0\n",
       "Length: 124, dtype: int64"
      ]
     },
     "execution_count": 13,
     "metadata": {},
     "output_type": "execute_result"
    }
   ],
   "source": [
    "df.isnull().sum()"
   ]
  },
  {
   "cell_type": "code",
   "execution_count": 14,
   "metadata": {},
   "outputs": [],
   "source": [
    "le = preprocessing.LabelEncoder()\n",
    "for i in ['Business Units',\n",
    "'Competence Domain',\n",
    "'Competence SubDomain',\n",
    "'Contract Type',\n",
    "'CNS',\n",
    "'CROU BP',\n",
    "'Cause Code',\n",
    "'CSR Closed (Vol)',\n",
    "'Cost Allocation',\n",
    "'DEL Acc (Vol)',\n",
    "'DEL Pend Acc (Vol)',\n",
    "'DEL Rej (Vol)',\n",
    "'Issue Category',\n",
    "'Last Status',\n",
    "'CSR Open (Vol)',\n",
    "'Original Severity',\n",
    "'CSR Origin',\n",
    "'Product Life Cycle',\n",
    "'REM Not Prov Overdue (Vol)',\n",
    "'REM Prov on Tgt (Vol)',\n",
    "'RST Acc not on Tgt (Vol)',\n",
    "'RST Acc on Tgt (Vol)',\n",
    "'CSR Type',\n",
    "'CSR (Vol)',\n",
    "'Customer',\n",
    "'Flag: Customer Adaptation',\n",
    "'Customer Country',\n",
    "'Global Customer Name',\n",
    "'MELA SF',\n",
    "'Hours',\n",
    "'MELA SF2',\n",
    "'Last year CSRs',\n",
    "'Network',\n",
    "'Flag: New CSR',\n",
    "'Flag: RST Backdated',\n",
    "'Severity',\n",
    "'Sold to Party', \n",
    "'Sold to Party Country',\n",
    "'Status',\n",
    "'KA',\n",
    "'EER Country',\n",
    "'EROU Level',\n",
    "'EROU SF',\n",
    "'EROU SF Full Name',\n",
    "'Final Ext# Customer',\n",
    "'Final Ext# Customer',\n",
    "'Final Ext# Customer Country',\n",
    "'Date: Started DOW',\n",
    "'Date: Started Year',\n",
    "'Date: Started Month',\n",
    "'Date: Started Day',\n",
    "'Date: Closed DOW',\n",
    "'Date: Closed Year',\n",
    "'Date: Closed Month',\n",
    "'Date: Closed Day',\n",
    "'Date: Last Status DOW',\n",
    "'Date: Last Status Year',\n",
    "'Date: Last Status Month',\n",
    "'Date: Last Status Day',\n",
    "'Date: Reported DOW',\n",
    "'Date: Reported Year',\n",
    "'Date: Reported Month',\n",
    "'Date: Reported Day',\n",
    "'Date: CB Prov# DOW',\n",
    "'Date: CB Prov# Year',\n",
    "'Date: CB Prov# Month',\n",
    "'Date: CB Prov# Day',\n",
    "'Date: Last Change DOW',\n",
    "'Date: Last Change Year',\n",
    "'Date: Last Change Month',\n",
    "'Date: Last Change Day',\n",
    "'Date: REM Acc# DOW',\n",
    "'Date: REM Acc# Year',\n",
    "'Date: REM Acc# Month',\n",
    "'Date: REM Acc# Day',\n",
    "'Date: REM Prov# DOW',\n",
    "'Date: REM Prov# Year',\n",
    "'Date: REM Prov# Month',\n",
    "'Date: REM Prov# Day',\n",
    "'Date: RST Acc# DOW',\n",
    "'Date: RST Acc# Year',\n",
    "'Date: RST Acc# Month',\n",
    "'Date: RST Acc# Day',\n",
    "'Date: RST Prov# DOW',\n",
    "'Date: RST Prov# Year',\n",
    "'Date: RST Prov# Month',\n",
    "'Date: RST Prov# Day']:\n",
    "\n",
    "    df[i] = le.fit_transform(df[i].astype(str))"
   ]
  },
  {
   "cell_type": "code",
   "execution_count": 15,
   "metadata": {},
   "outputs": [],
   "source": [
    "df.replace(np.nan,0,inplace=True) "
   ]
  },
  {
   "cell_type": "code",
   "execution_count": 16,
   "metadata": {},
   "outputs": [],
   "source": [
    "df2=df.drop([642],axis=0)"
   ]
  },
  {
   "cell_type": "code",
   "execution_count": 17,
   "metadata": {},
   "outputs": [
    {
     "data": {
      "text/plain": [
       "1"
      ]
     },
     "execution_count": 17,
     "metadata": {},
     "output_type": "execute_result"
    }
   ],
   "source": [
    "df2.iat[642,54]"
   ]
  },
  {
   "cell_type": "code",
   "execution_count": 18,
   "metadata": {},
   "outputs": [
    {
     "ename": "TypeError",
     "evalue": "ufunc 'isnan' not supported for the input types, and the inputs could not be safely coerced to any supported types according to the casting rule ''safe''",
     "output_type": "error",
     "traceback": [
      "\u001b[1;31m---------------------------------------------------------------------------\u001b[0m",
      "\u001b[1;31mTypeError\u001b[0m                                 Traceback (most recent call last)",
      "\u001b[1;32m<ipython-input-18-77d526bdbf99>\u001b[0m in \u001b[0;36m<module>\u001b[1;34m\u001b[0m\n\u001b[1;32m----> 1\u001b[1;33m \u001b[0mnp\u001b[0m\u001b[1;33m.\u001b[0m\u001b[0mwhere\u001b[0m\u001b[1;33m(\u001b[0m\u001b[0mnp\u001b[0m\u001b[1;33m.\u001b[0m\u001b[0misnan\u001b[0m\u001b[1;33m(\u001b[0m\u001b[0mdf\u001b[0m\u001b[1;33m)\u001b[0m\u001b[1;33m)\u001b[0m \u001b[1;31m#to find where NaN values are located\u001b[0m\u001b[1;33m\u001b[0m\u001b[1;33m\u001b[0m\u001b[0m\n\u001b[0m",
      "\u001b[1;31mTypeError\u001b[0m: ufunc 'isnan' not supported for the input types, and the inputs could not be safely coerced to any supported types according to the casting rule ''safe''"
     ]
    }
   ],
   "source": [
    "np.where(np.isnan(df)) #to find where NaN values are located "
   ]
  },
  {
   "cell_type": "code",
   "execution_count": null,
   "metadata": {},
   "outputs": [],
   "source": [
    "\n",
    "#df2=df2.drop([\"45DAYS\"],axis=1) # dropping the column for each class "
   ]
  },
  {
   "cell_type": "code",
   "execution_count": 19,
   "metadata": {},
   "outputs": [],
   "source": [
    "df2=df2.drop([\"Service Prim Number\"],axis=1) # dropping the column for each class "
   ]
  },
  {
   "cell_type": "code",
   "execution_count": 20,
   "metadata": {},
   "outputs": [],
   "source": [
    "df2=df2.drop([\"Duration (Days)\"],axis=1) # dropping the column for each class "
   ]
  },
  {
   "cell_type": "code",
   "execution_count": 21,
   "metadata": {},
   "outputs": [
    {
     "name": "stdout",
     "output_type": "stream",
     "text": [
      "CSR ID\n",
      "3PP (Vol)\n",
      "Business Units\n",
      "Competence Domain\n",
      "Competence SubDomain\n",
      "Contract Type\n",
      "CNS\n",
      "CROU BP\n",
      "3PP (Days)\n",
      "Flag: CSR Backdated / Forwarded\n",
      "Flag: Hot\n",
      "Flag: Hot FTS\n",
      "Cause Code\n",
      "Flag: CB Backdated\n",
      "CB Not Prov Overdue (Vol)\n",
      "CB Prov on Tgt (Vol)\n",
      "CB Prov (Vol)\n",
      "CSR Closed (Vol)\n",
      "Cost Allocation\n",
      "DEL Acc (Vol)\n",
      "DEL Pend Acc (Vol)\n",
      "DEL Prov (Vol)\n",
      "DEL Rej (Vol)\n",
      "Issue Category\n",
      "Last Status\n",
      "CSR Open (Vol)\n",
      "Original Severity\n",
      "CSR Origin\n",
      "Flag: Overdue CSR\n",
      "Product Life Cycle\n",
      "REM Acc (Vol)\n",
      "REM Not Prov Overdue (Vol)\n",
      "REM Prov not on Tgt (Vol)\n",
      "REM Prov on Tgt (Vol)\n",
      "REM Prov (Vol)\n",
      "REM Rej (Vol)\n",
      "RST Acc not on Tgt (Vol)\n",
      "RST Acc on Tgt (Vol)\n",
      "RST Acc (Vol)\n",
      "RST not Prov Overdue (Vol)\n",
      "RST pend Acc (Vol)\n",
      "RST Prov not on Tgt (Vol)\n",
      "RST Prov on Tgt (Vol)\n",
      "RST Prov (Vol)\n",
      "FAs Rej# (Vol)\n",
      "CSR Type\n",
      "CSR (Vol)\n",
      "Customer\n",
      "Flag: Customer Adaptation\n",
      "Customer Country\n",
      "Global Customer Name\n",
      "MELA SF\n",
      "Hours\n",
      "MELA SF2\n",
      "x Days - TMR after CSR Closure\n",
      "Local Hours\n",
      "Global Hours\n",
      "KA\n",
      "Hrs/CSR\n",
      "EER Country\n",
      "EROU Level\n",
      "EROU SF\n",
      "EROU SF Full Name\n",
      "Final Ext# Customer\n",
      "Final Ext# Customer Country\n",
      "Flag: GS Filter\n",
      "Total Hours\n",
      "Last year CSRs\n",
      "Network\n",
      "Flag: New CSR\n",
      "Flag: CSR Passed GS\n",
      "Flag: Patchable\n",
      "Flag: REM Backdated\n",
      "Flag: RST Backdated\n",
      "Severity\n",
      "Sold to Party\n",
      "Sold to Party Country\n",
      "Status\n",
      "Time Reported (Min)\n",
      "Flag: Has TR\n",
      "TR (Vol)\n",
      "Date: Started DOW\n",
      "Date: Started Year\n",
      "Date: Started Month\n",
      "Date: Started Day\n",
      "Date: Closed DOW\n",
      "Date: Closed Year\n",
      "Date: Closed Month\n",
      "Date: Closed Day\n",
      "Date: Last Status DOW\n",
      "Date: Last Status Year\n",
      "Date: Last Status Month\n",
      "Date: Last Status Day\n",
      "Date: Reported DOW\n",
      "Date: Reported Year\n",
      "Date: Reported Month\n",
      "Date: Reported Day\n",
      "Date: CB Prov# DOW\n",
      "Date: CB Prov# Year\n",
      "Date: CB Prov# Month\n",
      "Date: CB Prov# Day\n",
      "Date: Last Change DOW\n",
      "Date: Last Change Year\n",
      "Date: Last Change Month\n",
      "Date: Last Change Day\n",
      "Date: REM Acc# DOW\n",
      "Date: REM Acc# Year\n",
      "Date: REM Acc# Month\n",
      "Date: REM Acc# Day\n",
      "Date: REM Prov# DOW\n",
      "Date: REM Prov# Year\n",
      "Date: REM Prov# Month\n",
      "Date: REM Prov# Day\n",
      "Date: RST Acc# DOW\n",
      "Date: RST Acc# Year\n",
      "Date: RST Acc# Month\n",
      "Date: RST Acc# Day\n",
      "Date: RST Prov# DOW\n",
      "Date: RST Prov# Year\n",
      "Date: RST Prov# Month\n",
      "Date: RST Prov# Day\n",
      "45DAYS\n"
     ]
    }
   ],
   "source": [
    "for col in df2.columns: \n",
    "    print(col) "
   ]
  },
  {
   "cell_type": "code",
   "execution_count": 22,
   "metadata": {},
   "outputs": [
    {
     "data": {
      "text/html": [
       "<div>\n",
       "<style scoped>\n",
       "    .dataframe tbody tr th:only-of-type {\n",
       "        vertical-align: middle;\n",
       "    }\n",
       "\n",
       "    .dataframe tbody tr th {\n",
       "        vertical-align: top;\n",
       "    }\n",
       "\n",
       "    .dataframe thead th {\n",
       "        text-align: right;\n",
       "    }\n",
       "</style>\n",
       "<table border=\"1\" class=\"dataframe\">\n",
       "  <thead>\n",
       "    <tr style=\"text-align: right;\">\n",
       "      <th></th>\n",
       "      <th>CSR ID</th>\n",
       "      <th>3PP (Vol)</th>\n",
       "      <th>Business Units</th>\n",
       "      <th>Competence Domain</th>\n",
       "      <th>Competence SubDomain</th>\n",
       "      <th>Contract Type</th>\n",
       "      <th>CNS</th>\n",
       "      <th>CROU BP</th>\n",
       "      <th>3PP (Days)</th>\n",
       "      <th>Flag: CSR Backdated / Forwarded</th>\n",
       "      <th>...</th>\n",
       "      <th>Date: REM Prov# Day</th>\n",
       "      <th>Date: RST Acc# DOW</th>\n",
       "      <th>Date: RST Acc# Year</th>\n",
       "      <th>Date: RST Acc# Month</th>\n",
       "      <th>Date: RST Acc# Day</th>\n",
       "      <th>Date: RST Prov# DOW</th>\n",
       "      <th>Date: RST Prov# Year</th>\n",
       "      <th>Date: RST Prov# Month</th>\n",
       "      <th>Date: RST Prov# Day</th>\n",
       "      <th>45DAYS</th>\n",
       "    </tr>\n",
       "  </thead>\n",
       "  <tbody>\n",
       "    <tr>\n",
       "      <th>0</th>\n",
       "      <td>3145537</td>\n",
       "      <td>0</td>\n",
       "      <td>0</td>\n",
       "      <td>6</td>\n",
       "      <td>16</td>\n",
       "      <td>0</td>\n",
       "      <td>2</td>\n",
       "      <td>7</td>\n",
       "      <td>0.0</td>\n",
       "      <td>0</td>\n",
       "      <td>...</td>\n",
       "      <td>5</td>\n",
       "      <td>0</td>\n",
       "      <td>1</td>\n",
       "      <td>0</td>\n",
       "      <td>6</td>\n",
       "      <td>2</td>\n",
       "      <td>0</td>\n",
       "      <td>6</td>\n",
       "      <td>10</td>\n",
       "      <td>1</td>\n",
       "    </tr>\n",
       "    <tr>\n",
       "      <th>1</th>\n",
       "      <td>3212336</td>\n",
       "      <td>0</td>\n",
       "      <td>1</td>\n",
       "      <td>6</td>\n",
       "      <td>16</td>\n",
       "      <td>0</td>\n",
       "      <td>2</td>\n",
       "      <td>7</td>\n",
       "      <td>0.0</td>\n",
       "      <td>0</td>\n",
       "      <td>...</td>\n",
       "      <td>12</td>\n",
       "      <td>2</td>\n",
       "      <td>1</td>\n",
       "      <td>4</td>\n",
       "      <td>5</td>\n",
       "      <td>6</td>\n",
       "      <td>0</td>\n",
       "      <td>1</td>\n",
       "      <td>29</td>\n",
       "      <td>1</td>\n",
       "    </tr>\n",
       "    <tr>\n",
       "      <th>2</th>\n",
       "      <td>3243118</td>\n",
       "      <td>0</td>\n",
       "      <td>6</td>\n",
       "      <td>4</td>\n",
       "      <td>8</td>\n",
       "      <td>0</td>\n",
       "      <td>8</td>\n",
       "      <td>8</td>\n",
       "      <td>0.0</td>\n",
       "      <td>0</td>\n",
       "      <td>...</td>\n",
       "      <td>14</td>\n",
       "      <td>1</td>\n",
       "      <td>2</td>\n",
       "      <td>0</td>\n",
       "      <td>14</td>\n",
       "      <td>3</td>\n",
       "      <td>1</td>\n",
       "      <td>3</td>\n",
       "      <td>19</td>\n",
       "      <td>1</td>\n",
       "    </tr>\n",
       "    <tr>\n",
       "      <th>3</th>\n",
       "      <td>3251878</td>\n",
       "      <td>0</td>\n",
       "      <td>6</td>\n",
       "      <td>3</td>\n",
       "      <td>11</td>\n",
       "      <td>0</td>\n",
       "      <td>2</td>\n",
       "      <td>7</td>\n",
       "      <td>0.0</td>\n",
       "      <td>0</td>\n",
       "      <td>...</td>\n",
       "      <td>12</td>\n",
       "      <td>1</td>\n",
       "      <td>1</td>\n",
       "      <td>11</td>\n",
       "      <td>25</td>\n",
       "      <td>2</td>\n",
       "      <td>0</td>\n",
       "      <td>3</td>\n",
       "      <td>12</td>\n",
       "      <td>1</td>\n",
       "    </tr>\n",
       "    <tr>\n",
       "      <th>4</th>\n",
       "      <td>3257192</td>\n",
       "      <td>0</td>\n",
       "      <td>1</td>\n",
       "      <td>0</td>\n",
       "      <td>1</td>\n",
       "      <td>0</td>\n",
       "      <td>8</td>\n",
       "      <td>8</td>\n",
       "      <td>0.0</td>\n",
       "      <td>0</td>\n",
       "      <td>...</td>\n",
       "      <td>19</td>\n",
       "      <td>0</td>\n",
       "      <td>1</td>\n",
       "      <td>6</td>\n",
       "      <td>7</td>\n",
       "      <td>1</td>\n",
       "      <td>1</td>\n",
       "      <td>4</td>\n",
       "      <td>19</td>\n",
       "      <td>1</td>\n",
       "    </tr>\n",
       "    <tr>\n",
       "      <th>...</th>\n",
       "      <td>...</td>\n",
       "      <td>...</td>\n",
       "      <td>...</td>\n",
       "      <td>...</td>\n",
       "      <td>...</td>\n",
       "      <td>...</td>\n",
       "      <td>...</td>\n",
       "      <td>...</td>\n",
       "      <td>...</td>\n",
       "      <td>...</td>\n",
       "      <td>...</td>\n",
       "      <td>...</td>\n",
       "      <td>...</td>\n",
       "      <td>...</td>\n",
       "      <td>...</td>\n",
       "      <td>...</td>\n",
       "      <td>...</td>\n",
       "      <td>...</td>\n",
       "      <td>...</td>\n",
       "      <td>...</td>\n",
       "      <td>...</td>\n",
       "    </tr>\n",
       "    <tr>\n",
       "      <th>6462</th>\n",
       "      <td>3640423</td>\n",
       "      <td>0</td>\n",
       "      <td>0</td>\n",
       "      <td>3</td>\n",
       "      <td>4</td>\n",
       "      <td>0</td>\n",
       "      <td>8</td>\n",
       "      <td>8</td>\n",
       "      <td>0.0</td>\n",
       "      <td>0</td>\n",
       "      <td>...</td>\n",
       "      <td>10</td>\n",
       "      <td>3</td>\n",
       "      <td>2</td>\n",
       "      <td>3</td>\n",
       "      <td>10</td>\n",
       "      <td>3</td>\n",
       "      <td>2</td>\n",
       "      <td>3</td>\n",
       "      <td>10</td>\n",
       "      <td>0</td>\n",
       "    </tr>\n",
       "    <tr>\n",
       "      <th>6463</th>\n",
       "      <td>3641016</td>\n",
       "      <td>0</td>\n",
       "      <td>0</td>\n",
       "      <td>4</td>\n",
       "      <td>8</td>\n",
       "      <td>1</td>\n",
       "      <td>8</td>\n",
       "      <td>8</td>\n",
       "      <td>0.0</td>\n",
       "      <td>1</td>\n",
       "      <td>...</td>\n",
       "      <td>12</td>\n",
       "      <td>4</td>\n",
       "      <td>2</td>\n",
       "      <td>3</td>\n",
       "      <td>12</td>\n",
       "      <td>4</td>\n",
       "      <td>2</td>\n",
       "      <td>3</td>\n",
       "      <td>12</td>\n",
       "      <td>0</td>\n",
       "    </tr>\n",
       "    <tr>\n",
       "      <th>6464</th>\n",
       "      <td>3641623</td>\n",
       "      <td>0</td>\n",
       "      <td>7</td>\n",
       "      <td>3</td>\n",
       "      <td>11</td>\n",
       "      <td>0</td>\n",
       "      <td>8</td>\n",
       "      <td>8</td>\n",
       "      <td>0.0</td>\n",
       "      <td>0</td>\n",
       "      <td>...</td>\n",
       "      <td>10</td>\n",
       "      <td>3</td>\n",
       "      <td>2</td>\n",
       "      <td>3</td>\n",
       "      <td>10</td>\n",
       "      <td>3</td>\n",
       "      <td>2</td>\n",
       "      <td>3</td>\n",
       "      <td>10</td>\n",
       "      <td>0</td>\n",
       "    </tr>\n",
       "    <tr>\n",
       "      <th>6465</th>\n",
       "      <td>3642159</td>\n",
       "      <td>0</td>\n",
       "      <td>7</td>\n",
       "      <td>7</td>\n",
       "      <td>9</td>\n",
       "      <td>0</td>\n",
       "      <td>8</td>\n",
       "      <td>8</td>\n",
       "      <td>0.0</td>\n",
       "      <td>0</td>\n",
       "      <td>...</td>\n",
       "      <td>12</td>\n",
       "      <td>4</td>\n",
       "      <td>2</td>\n",
       "      <td>3</td>\n",
       "      <td>12</td>\n",
       "      <td>4</td>\n",
       "      <td>2</td>\n",
       "      <td>3</td>\n",
       "      <td>12</td>\n",
       "      <td>0</td>\n",
       "    </tr>\n",
       "    <tr>\n",
       "      <th>6466</th>\n",
       "      <td>3644660</td>\n",
       "      <td>0</td>\n",
       "      <td>0</td>\n",
       "      <td>6</td>\n",
       "      <td>10</td>\n",
       "      <td>0</td>\n",
       "      <td>8</td>\n",
       "      <td>8</td>\n",
       "      <td>0.0</td>\n",
       "      <td>0</td>\n",
       "      <td>...</td>\n",
       "      <td>23</td>\n",
       "      <td>5</td>\n",
       "      <td>3</td>\n",
       "      <td>10</td>\n",
       "      <td>0</td>\n",
       "      <td>5</td>\n",
       "      <td>3</td>\n",
       "      <td>10</td>\n",
       "      <td>0</td>\n",
       "      <td>0</td>\n",
       "    </tr>\n",
       "  </tbody>\n",
       "</table>\n",
       "<p>6466 rows × 122 columns</p>\n",
       "</div>"
      ],
      "text/plain": [
       "       CSR ID  3PP (Vol)  Business Units  Competence Domain  \\\n",
       "0     3145537          0               0                  6   \n",
       "1     3212336          0               1                  6   \n",
       "2     3243118          0               6                  4   \n",
       "3     3251878          0               6                  3   \n",
       "4     3257192          0               1                  0   \n",
       "...       ...        ...             ...                ...   \n",
       "6462  3640423          0               0                  3   \n",
       "6463  3641016          0               0                  4   \n",
       "6464  3641623          0               7                  3   \n",
       "6465  3642159          0               7                  7   \n",
       "6466  3644660          0               0                  6   \n",
       "\n",
       "      Competence SubDomain  Contract Type  CNS  CROU BP  3PP (Days)  \\\n",
       "0                       16              0    2        7         0.0   \n",
       "1                       16              0    2        7         0.0   \n",
       "2                        8              0    8        8         0.0   \n",
       "3                       11              0    2        7         0.0   \n",
       "4                        1              0    8        8         0.0   \n",
       "...                    ...            ...  ...      ...         ...   \n",
       "6462                     4              0    8        8         0.0   \n",
       "6463                     8              1    8        8         0.0   \n",
       "6464                    11              0    8        8         0.0   \n",
       "6465                     9              0    8        8         0.0   \n",
       "6466                    10              0    8        8         0.0   \n",
       "\n",
       "      Flag: CSR Backdated / Forwarded  ...  Date: REM Prov# Day  \\\n",
       "0                                   0  ...                    5   \n",
       "1                                   0  ...                   12   \n",
       "2                                   0  ...                   14   \n",
       "3                                   0  ...                   12   \n",
       "4                                   0  ...                   19   \n",
       "...                               ...  ...                  ...   \n",
       "6462                                0  ...                   10   \n",
       "6463                                1  ...                   12   \n",
       "6464                                0  ...                   10   \n",
       "6465                                0  ...                   12   \n",
       "6466                                0  ...                   23   \n",
       "\n",
       "      Date: RST Acc# DOW  Date: RST Acc# Year  Date: RST Acc# Month  \\\n",
       "0                      0                    1                     0   \n",
       "1                      2                    1                     4   \n",
       "2                      1                    2                     0   \n",
       "3                      1                    1                    11   \n",
       "4                      0                    1                     6   \n",
       "...                  ...                  ...                   ...   \n",
       "6462                   3                    2                     3   \n",
       "6463                   4                    2                     3   \n",
       "6464                   3                    2                     3   \n",
       "6465                   4                    2                     3   \n",
       "6466                   5                    3                    10   \n",
       "\n",
       "      Date: RST Acc# Day  Date: RST Prov# DOW  Date: RST Prov# Year  \\\n",
       "0                      6                    2                     0   \n",
       "1                      5                    6                     0   \n",
       "2                     14                    3                     1   \n",
       "3                     25                    2                     0   \n",
       "4                      7                    1                     1   \n",
       "...                  ...                  ...                   ...   \n",
       "6462                  10                    3                     2   \n",
       "6463                  12                    4                     2   \n",
       "6464                  10                    3                     2   \n",
       "6465                  12                    4                     2   \n",
       "6466                   0                    5                     3   \n",
       "\n",
       "      Date: RST Prov# Month  Date: RST Prov# Day  45DAYS  \n",
       "0                         6                   10       1  \n",
       "1                         1                   29       1  \n",
       "2                         3                   19       1  \n",
       "3                         3                   12       1  \n",
       "4                         4                   19       1  \n",
       "...                     ...                  ...     ...  \n",
       "6462                      3                   10       0  \n",
       "6463                      3                   12       0  \n",
       "6464                      3                   10       0  \n",
       "6465                      3                   12       0  \n",
       "6466                     10                    0       0  \n",
       "\n",
       "[6466 rows x 122 columns]"
      ]
     },
     "execution_count": 22,
     "metadata": {},
     "output_type": "execute_result"
    }
   ],
   "source": [
    "\n",
    "df2\n"
   ]
  },
  {
   "cell_type": "markdown",
   "metadata": {},
   "source": [
    "# TARGET VARIABLE CLASS has the following classes: \n",
    "* 0 for M45DAYS 1441\n",
    "\n",
    "* 1 for L22DAYS 3635\n",
    "\n",
    "* 2 for M22L45 1341"
   ]
  },
  {
   "cell_type": "markdown",
   "metadata": {},
   "source": [
    "### Balancing target"
   ]
  },
  {
   "cell_type": "code",
   "execution_count": 23,
   "metadata": {},
   "outputs": [],
   "source": [
    "label='45DAYS'\n",
    "\n",
    "g = df2.groupby(label, group_keys=False)\n",
    "balanced_df = pd.DataFrame(g.apply(lambda x: x.sample(g.size().min()))).reset_index(drop=True)"
   ]
  },
  {
   "cell_type": "code",
   "execution_count": 24,
   "metadata": {},
   "outputs": [
    {
     "data": {
      "text/plain": [
       "1    1443\n",
       "0    1443\n",
       "Name: 45DAYS, dtype: int64"
      ]
     },
     "execution_count": 24,
     "metadata": {},
     "output_type": "execute_result"
    }
   ],
   "source": [
    "balanced_df[\"45DAYS\"].value_counts()"
   ]
  },
  {
   "cell_type": "code",
   "execution_count": 25,
   "metadata": {},
   "outputs": [],
   "source": [
    "y2 = balanced_df[\"45DAYS\"]\n",
    "X2 = balanced_df.drop(\"45DAYS\", axis=1)"
   ]
  },
  {
   "cell_type": "code",
   "execution_count": 26,
   "metadata": {},
   "outputs": [],
   "source": [
    "#y2 = df2[\"Class\"]\n",
    "#X2 = df2.drop(\"Class\", axis=1)"
   ]
  },
  {
   "cell_type": "code",
   "execution_count": 27,
   "metadata": {},
   "outputs": [
    {
     "data": {
      "text/plain": [
       "((2886, 121), (2886,))"
      ]
     },
     "execution_count": 27,
     "metadata": {},
     "output_type": "execute_result"
    }
   ],
   "source": [
    "X2.shape, y2.shape"
   ]
  },
  {
   "cell_type": "code",
   "execution_count": 28,
   "metadata": {},
   "outputs": [],
   "source": [
    "X2_train,X2_test,y2_train,y2_test = train_test_split(X2,y2, test_size = 0.15, random_state=0)"
   ]
  },
  {
   "cell_type": "code",
   "execution_count": 29,
   "metadata": {},
   "outputs": [
    {
     "data": {
      "text/plain": [
       "((2453, 121), (2453,))"
      ]
     },
     "execution_count": 29,
     "metadata": {},
     "output_type": "execute_result"
    }
   ],
   "source": [
    "X2_train.shape,y2_train.shape"
   ]
  },
  {
   "cell_type": "markdown",
   "metadata": {},
   "source": [
    "### Original\n",
    "\n"
   ]
  },
  {
   "cell_type": "code",
   "execution_count": 30,
   "metadata": {},
   "outputs": [
    {
     "data": {
      "image/png": "[encoded data removed]",
      "text/plain": [
       "<Figure size 432x288 with 1 Axes>"
      ]
     },
     "metadata": {},
     "output_type": "display_data"
    }
   ],
   "source": [
    "sns.distplot(df2[\"45DAYS\"],kde=False, rug=False);"
   ]
  },
  {
   "cell_type": "markdown",
   "metadata": {},
   "source": [
    "### Balanced"
   ]
  },
  {
   "cell_type": "code",
   "execution_count": 31,
   "metadata": {},
   "outputs": [
    {
     "data": {
      "image/png": "[encoded data removed]",
      "text/plain": [
       "<Figure size 432x288 with 1 Axes>"
      ]
     },
     "metadata": {},
     "output_type": "display_data"
    }
   ],
   "source": [
    "sns.distplot(balanced_df[\"45DAYS\"],kde=False, rug=False);"
   ]
  },
  {
   "cell_type": "markdown",
   "metadata": {},
   "source": [
    "## Feature dimension reduction "
   ]
  },
  {
   "cell_type": "markdown",
   "metadata": {},
   "source": [
    "### Remove constant, quasi constant and duplicate features"
   ]
  },
  {
   "cell_type": "code",
   "execution_count": 32,
   "metadata": {},
   "outputs": [],
   "source": [
    "constant_filter = VarianceThreshold(threshold=0.01)\n",
    "constant_filter.fit(X2_train)\n",
    "Xb_train_filter=constant_filter.transform(X2_train)\n",
    "Xb_test_filter = constant_filter.transform(X2_test)"
   ]
  },
  {
   "cell_type": "code",
   "execution_count": 33,
   "metadata": {},
   "outputs": [
    {
     "data": {
      "text/plain": [
       "((2453, 99), (433, 99))"
      ]
     },
     "execution_count": 33,
     "metadata": {},
     "output_type": "execute_result"
    }
   ],
   "source": [
    "Xb_train_filter.shape,Xb_test_filter.shape"
   ]
  },
  {
   "cell_type": "code",
   "execution_count": 34,
   "metadata": {},
   "outputs": [],
   "source": [
    "#remove duplicate features\n",
    "Xb_train_T=Xb_train_filter.T\n",
    "Xb_test_T=Xb_test_filter.T"
   ]
  },
  {
   "cell_type": "code",
   "execution_count": 35,
   "metadata": {},
   "outputs": [],
   "source": [
    "Xb_train_T=pd.DataFrame(Xb_train_T)\n",
    "Xb_test_T=pd.DataFrame(Xb_test_T)"
   ]
  },
  {
   "cell_type": "code",
   "execution_count": 36,
   "metadata": {},
   "outputs": [
    {
     "data": {
      "text/plain": [
       "3"
      ]
     },
     "execution_count": 36,
     "metadata": {},
     "output_type": "execute_result"
    }
   ],
   "source": [
    "Xb_train_T.duplicated().sum()"
   ]
  },
  {
   "cell_type": "code",
   "execution_count": 37,
   "metadata": {},
   "outputs": [],
   "source": [
    "duplicated_features=Xb_train_T.duplicated()"
   ]
  },
  {
   "cell_type": "code",
   "execution_count": 38,
   "metadata": {},
   "outputs": [],
   "source": [
    "features_to_keep=[not index for index in duplicated_features]\n",
    "\n",
    "Xb_train_unique=Xb_train_T[features_to_keep].T\n",
    "Xb_test_unique=Xb_test_T[features_to_keep].T"
   ]
  },
  {
   "cell_type": "markdown",
   "metadata": {},
   "source": [
    "### Feature scaling "
   ]
  },
  {
   "cell_type": "code",
   "execution_count": 39,
   "metadata": {},
   "outputs": [],
   "source": [
    "scaler=StandardScaler().fit(Xb_train_unique)\n",
    "Xb_train_unique=scaler.transform(Xb_train_unique)\n",
    "Xb_test_unique = scaler.transform(Xb_test_unique)"
   ]
  },
  {
   "cell_type": "code",
   "execution_count": 40,
   "metadata": {},
   "outputs": [],
   "source": [
    "Xb_train_unique=pd.DataFrame(Xb_train_unique)\n",
    "Xb_test_unique=pd.DataFrame(Xb_test_unique)"
   ]
  },
  {
   "cell_type": "code",
   "execution_count": 41,
   "metadata": {},
   "outputs": [
    {
     "data": {
      "text/plain": [
       "((2453, 96), (433, 96))"
      ]
     },
     "execution_count": 41,
     "metadata": {},
     "output_type": "execute_result"
    }
   ],
   "source": [
    "Xb_train_unique.shape,Xb_test_unique.shape"
   ]
  },
  {
   "cell_type": "code",
   "execution_count": 42,
   "metadata": {},
   "outputs": [
    {
     "data": {
      "text/plain": [
       "((2453,), (433,))"
      ]
     },
     "execution_count": 42,
     "metadata": {},
     "output_type": "execute_result"
    }
   ],
   "source": [
    "y2_train.shape,y2_test.shape"
   ]
  },
  {
   "cell_type": "markdown",
   "metadata": {},
   "source": [
    "### Removal of correlated features"
   ]
  },
  {
   "cell_type": "code",
   "execution_count": 43,
   "metadata": {},
   "outputs": [],
   "source": [
    "corrmat=Xb_train_unique.corr()"
   ]
  },
  {
   "cell_type": "code",
   "execution_count": 44,
   "metadata": {},
   "outputs": [
    {
     "name": "stdout",
     "output_type": "stream",
     "text": [
      "correlated features: 38\n"
     ]
    }
   ],
   "source": [
    "#find correlated features \n",
    "def get_correlation(balanced_df,threshold):\n",
    "    corr_col=set()\n",
    "    corrmat=balanced_df.corr()\n",
    "    for i in range(len(corrmat.columns)):\n",
    "        for j in range(i):\n",
    "            if abs(corrmat.iloc[i,j])> threshold:\n",
    "                colname=corrmat.columns[i]\n",
    "                corr_col.add(colname)\n",
    "    return corr_col\n",
    "corr_features = get_correlation(Xb_train_unique, 0.70)\n",
    "print ('correlated features:', len(set(corr_features)))"
   ]
  },
  {
   "cell_type": "code",
   "execution_count": 45,
   "metadata": {},
   "outputs": [],
   "source": [
    "Xb_train_uncorr=Xb_train_unique.drop(labels=corr_features, axis=1)\n",
    "Xb_test_uncorr=Xb_test_unique.drop(labels=corr_features, axis=1)\n"
   ]
  },
  {
   "cell_type": "code",
   "execution_count": 46,
   "metadata": {},
   "outputs": [
    {
     "data": {
      "text/plain": [
       "((2453, 58), (433, 58))"
      ]
     },
     "execution_count": 46,
     "metadata": {},
     "output_type": "execute_result"
    }
   ],
   "source": [
    "Xb_train_uncorr.shape,Xb_test_uncorr.shape"
   ]
  },
  {
   "cell_type": "markdown",
   "metadata": {},
   "source": [
    "## Feauture selection"
   ]
  },
  {
   "cell_type": "markdown",
   "metadata": {},
   "source": [
    "### Using KBest"
   ]
  },
  {
   "cell_type": "code",
   "execution_count": 47,
   "metadata": {},
   "outputs": [
    {
     "name": "stdout",
     "output_type": "stream",
     "text": [
      "    Specs       Score\n",
      "17     17  153.428608\n",
      "41     54  116.803278\n",
      "39     47   87.810867\n",
      "32     34   65.809642\n",
      "7       7   65.786535\n",
      "8       8   53.244645\n",
      "13     13   42.655562\n",
      "19     19   42.378694\n",
      "29     31   25.450333\n",
      "23     25   24.990023\n",
      "24     26   23.416413\n",
      "15     15   19.558341\n",
      "16     16   15.948831\n",
      "35     41   15.270449\n",
      "12     12   12.355858\n",
      "11     11   10.856968\n",
      "31     33   10.411272\n",
      "30     32    6.370046\n",
      "36     42    6.281939\n",
      "46     62    5.321578\n",
      "3       3    5.123851\n",
      "34     40    3.924949\n",
      "52     76    3.907077\n",
      "22     24    3.818104\n",
      "6       6    3.461178\n",
      "10     10    3.440285\n",
      "33     38    3.429669\n",
      "26     28    3.333560\n",
      "38     46    2.431313\n",
      "5       5    2.009482\n",
      "45     60    1.713467\n",
      "54     79    1.684234\n",
      "43     58    1.668351\n",
      "0       0    1.223144\n",
      "1       1    1.130776\n",
      "28     30    1.034033\n",
      "4       4    0.973232\n",
      "44     59    0.723227\n",
      "25     27    0.717639\n",
      "9       9    0.696828\n"
     ]
    }
   ],
   "source": [
    "import pandas as pd\n",
    "import numpy as np\n",
    "from sklearn.feature_selection import SelectKBest\n",
    "from sklearn.feature_selection import chi2\n",
    "\n",
    "#apply SelectKBest class to extract top 41 best features\n",
    "bestfeatures = SelectKBest(score_func=chi2, k=10)\n",
    "fit = bestfeatures.fit(abs(Xb_train_uncorr),y2_train)\n",
    "dfscores = pd.DataFrame(fit.scores_)\n",
    "dfcolumns = pd.DataFrame(abs(Xb_train_uncorr).columns)\n",
    "#concat two dataframes for better visualization \n",
    "featureScores = pd.concat([dfcolumns,dfscores],axis=1)\n",
    "featureScores.columns = ['Specs','Score']  #naming the dataframe columns\n",
    "print(featureScores.nlargest(40,'Score'))  #print 10 best features"
   ]
  },
  {
   "cell_type": "markdown",
   "metadata": {},
   "source": [
    "### Pearson Coeff"
   ]
  },
  {
   "cell_type": "code",
   "execution_count": 48,
   "metadata": {},
   "outputs": [
    {
     "name": "stdout",
     "output_type": "stream",
     "text": [
      "40 selected features\n"
     ]
    }
   ],
   "source": [
    "num_feats=40\n",
    "def cor_selector(Xb_train_uncorr, y2_train,num_feats):\n",
    "    cor_list = []\n",
    "    feature_name = Xb_train_uncorr.columns.tolist()\n",
    "    # calculate the correlation with y for each feature\n",
    "    for i in Xb_train_uncorr.columns.tolist():\n",
    "        cor = np.corrcoef(Xb_train_uncorr[i], y2_train)[0, 1]\n",
    "        cor_list.append(cor)\n",
    "    # replace NaN with 0\n",
    "    cor_list = [0 if np.isnan(i) else i for i in cor_list]\n",
    "    # feature name\n",
    "    cor_feature = Xb_train_uncorr.iloc[:,np.argsort(np.abs(cor_list))[-num_feats:]].columns.tolist()\n",
    "    # feature selection? 0 for not select, 1 for select\n",
    "    cor_support = [True if i in cor_feature else False for i in feature_name]\n",
    "    return cor_support, cor_feature\n",
    "cor_support, cor_feature = cor_selector(Xb_train_uncorr, y2_train,num_feats)\n",
    "print(str(len(cor_feature)), 'selected features')"
   ]
  },
  {
   "cell_type": "markdown",
   "metadata": {},
   "source": [
    "### Chi Squared"
   ]
  },
  {
   "cell_type": "code",
   "execution_count": 49,
   "metadata": {},
   "outputs": [],
   "source": [
    "from sklearn.feature_selection import SelectKBest\n",
    "from sklearn.feature_selection import chi2\n",
    "from sklearn.preprocessing import MinMaxScaler\n",
    "num_feats=39"
   ]
  },
  {
   "cell_type": "code",
   "execution_count": 50,
   "metadata": {},
   "outputs": [
    {
     "name": "stdout",
     "output_type": "stream",
     "text": [
      "39 selected features\n"
     ]
    }
   ],
   "source": [
    "X_norm = MinMaxScaler().fit_transform(Xb_train_uncorr)\n",
    "chi_selector = SelectKBest(chi2, k=num_feats)\n",
    "chi_selector.fit(X_norm, y2_train)\n",
    "chi_support = chi_selector.get_support()\n",
    "chi_feature = Xb_train_uncorr.loc[:,chi_support].columns.tolist()\n",
    "print(str(len(chi_feature)), 'selected features')"
   ]
  },
  {
   "cell_type": "markdown",
   "metadata": {},
   "source": [
    "### Recursive Feature Elimination"
   ]
  },
  {
   "cell_type": "code",
   "execution_count": 51,
   "metadata": {},
   "outputs": [
    {
     "name": "stdout",
     "output_type": "stream",
     "text": [
      "Fitting estimator with 58 features.\n",
      "Fitting estimator with 48 features.\n",
      "39 selected features\n"
     ]
    },
    {
     "name": "stderr",
     "output_type": "stream",
     "text": [
      "c:\\users\\ekvaeri\\appdata\\local\\programs\\python\\python38-32\\lib\\site-packages\\sklearn\\linear_model\\_logistic.py:762: ConvergenceWarning: lbfgs failed to converge (status=1):\n",
      "STOP: TOTAL NO. of ITERATIONS REACHED LIMIT.\n",
      "\n",
      "Increase the number of iterations (max_iter) or scale the data as shown in:\n",
      "    https://scikit-learn.org/stable/modules/preprocessing.html\n",
      "Please also refer to the documentation for alternative solver options:\n",
      "    https://scikit-learn.org/stable/modules/linear_model.html#logistic-regression\n",
      "  n_iter_i = _check_optimize_result(\n"
     ]
    }
   ],
   "source": [
    "from sklearn.feature_selection import RFE\n",
    "from sklearn.linear_model import LogisticRegression\n",
    "num_feats=39\n",
    "rfe_selector = RFE(estimator=LogisticRegression(), n_features_to_select=num_feats, step=10, verbose=5)\n",
    "rfe_selector.fit(X_norm,y2_train)\n",
    "rfe_support = rfe_selector.get_support()\n",
    "rfe_feature = Xb_train_uncorr.loc[:,rfe_support].columns.tolist()\n",
    "print(str(len(rfe_feature)), 'selected features')"
   ]
  },
  {
   "cell_type": "markdown",
   "metadata": {},
   "source": [
    "### Lasso"
   ]
  },
  {
   "cell_type": "code",
   "execution_count": 52,
   "metadata": {},
   "outputs": [
    {
     "name": "stdout",
     "output_type": "stream",
     "text": [
      "25 selected features\n"
     ]
    },
    {
     "name": "stderr",
     "output_type": "stream",
     "text": [
      "c:\\users\\ekvaeri\\appdata\\local\\programs\\python\\python38-32\\lib\\site-packages\\sklearn\\linear_model\\_logistic.py:762: ConvergenceWarning: lbfgs failed to converge (status=1):\n",
      "STOP: TOTAL NO. of ITERATIONS REACHED LIMIT.\n",
      "\n",
      "Increase the number of iterations (max_iter) or scale the data as shown in:\n",
      "    https://scikit-learn.org/stable/modules/preprocessing.html\n",
      "Please also refer to the documentation for alternative solver options:\n",
      "    https://scikit-learn.org/stable/modules/linear_model.html#logistic-regression\n",
      "  n_iter_i = _check_optimize_result(\n"
     ]
    }
   ],
   "source": [
    "from sklearn.feature_selection import SelectFromModel\n",
    "from sklearn.linear_model import LogisticRegression\n",
    "\n",
    "embeded_lr_selector = SelectFromModel(LogisticRegression(penalty=\"l2\"), max_features=num_feats)\n",
    "embeded_lr_selector.fit(X_norm,y2_train)\n",
    "\n",
    "embeded_lr_support = embeded_lr_selector.get_support()\n",
    "embeded_lr_feature = Xb_train_uncorr.loc[:,embeded_lr_support].columns.tolist()\n",
    "print(str(len(embeded_lr_feature)), 'selected features')"
   ]
  },
  {
   "cell_type": "markdown",
   "metadata": {},
   "source": [
    "### Ridge"
   ]
  },
  {
   "cell_type": "code",
   "execution_count": 53,
   "metadata": {},
   "outputs": [
    {
     "name": "stdout",
     "output_type": "stream",
     "text": [
      "57 selected features\n"
     ]
    }
   ],
   "source": [
    "sel1= SelectFromModel(LogisticRegression(penalty='l1', C=10, solver='liblinear'))\n",
    "sel1.fit(Xb_train_uncorr,y2_train)\n",
    "\n",
    "embeded_l1_support = sel1.get_support()\n",
    "embeded_l1_feature = Xb_train_uncorr.loc[:,embeded_l1_support].columns.tolist()\n",
    "print(str(len(embeded_l1_feature)), 'selected features')\n",
    "\n"
   ]
  },
  {
   "cell_type": "markdown",
   "metadata": {},
   "source": [
    "### Tree based selectfrommodel"
   ]
  },
  {
   "cell_type": "code",
   "execution_count": 54,
   "metadata": {},
   "outputs": [
    {
     "name": "stdout",
     "output_type": "stream",
     "text": [
      "26 selected features\n"
     ]
    }
   ],
   "source": [
    "from sklearn.feature_selection import SelectFromModel\n",
    "from sklearn.ensemble import RandomForestClassifier\n",
    "\n",
    "embeded_rf_selector = SelectFromModel(RandomForestClassifier(n_estimators=100), max_features=num_feats)\n",
    "embeded_rf_selector.fit(Xb_train_uncorr, y2_train)\n",
    "\n",
    "embeded_rf_support = embeded_rf_selector.get_support()\n",
    "embeded_rf_feature = Xb_train_uncorr.loc[:,embeded_rf_support].columns.tolist()\n",
    "print(str(len(embeded_rf_feature)), 'selected features')"
   ]
  },
  {
   "cell_type": "markdown",
   "metadata": {},
   "source": [
    "### SelectFromModel LinearRegression to select features"
   ]
  },
  {
   "cell_type": "code",
   "execution_count": 55,
   "metadata": {},
   "outputs": [
    {
     "name": "stdout",
     "output_type": "stream",
     "text": [
      "22 selected features\n"
     ]
    }
   ],
   "source": [
    "embeded_lir_selector = SelectFromModel(LinearRegression(), max_features=num_feats)\n",
    "embeded_lir_selector.fit(X_norm,y2_train)\n",
    "\n",
    "embeded_lir_support = embeded_lir_selector.get_support()\n",
    "embeded_lir_feature = Xb_train_uncorr.loc[:,embeded_lir_support].columns.tolist()\n",
    "print(str(len(embeded_lir_feature)), 'selected features')"
   ]
  },
  {
   "cell_type": "markdown",
   "metadata": {},
   "source": [
    "## Comparison of feature selecting methods"
   ]
  },
  {
   "cell_type": "code",
   "execution_count": 56,
   "metadata": {},
   "outputs": [
    {
     "data": {
      "text/plain": [
       "58"
      ]
     },
     "execution_count": 56,
     "metadata": {},
     "output_type": "execute_result"
    }
   ],
   "source": [
    "len(embeded_lir_support)"
   ]
  },
  {
   "cell_type": "code",
   "execution_count": 57,
   "metadata": {},
   "outputs": [],
   "source": [
    "feature_name=list(Xb_train_uncorr)\n"
   ]
  },
  {
   "cell_type": "code",
   "execution_count": 58,
   "metadata": {},
   "outputs": [
    {
     "data": {
      "text/plain": [
       "array(['CSR ID', '3PP (Vol)', 'Business Units', 'Competence Domain',\n",
       "       'Competence SubDomain', 'Contract Type', 'CNS', 'CROU BP',\n",
       "       '3PP (Days)', 'Flag: CSR Backdated / Forwarded', 'Flag: Hot',\n",
       "       'Flag: Hot FTS', 'Cause Code', 'Flag: CB Backdated',\n",
       "       'CB Not Prov Overdue (Vol)', 'CB Prov on Tgt (Vol)',\n",
       "       'CB Prov (Vol)', 'CSR Closed (Vol)', 'Cost Allocation',\n",
       "       'DEL Acc (Vol)', 'DEL Pend Acc (Vol)', 'Issue Category',\n",
       "       'Last Status', 'CSR Open (Vol)', 'Original Severity', 'CSR Origin',\n",
       "       'Flag: Overdue CSR', 'Product Life Cycle', 'REM Acc (Vol)',\n",
       "       'REM Not Prov Overdue (Vol)', 'REM Prov not on Tgt (Vol)',\n",
       "       'REM Prov on Tgt (Vol)', 'REM Prov (Vol)', 'RST Acc (Vol)',\n",
       "       'RST pend Acc (Vol)', 'RST Prov not on Tgt (Vol)',\n",
       "       'RST Prov on Tgt (Vol)', 'RST Prov (Vol)', 'CSR (Vol)', 'Customer',\n",
       "       'Hours', 'x Days - TMR after CSR Closure', 'Global Hours',\n",
       "       'Hrs/CSR', 'EER Country', 'EROU Level', 'EROU SF Full Name',\n",
       "       'Final Ext# Customer', 'Network', 'Flag: REM Backdated',\n",
       "       'Severity', 'Sold to Party', 'Sold to Party Country',\n",
       "       'Time Reported (Min)', 'Flag: Has TR', 'Date: Started Day',\n",
       "       'Date: Closed Year', 'Date: Closed Month'], dtype=object)"
      ]
     },
     "execution_count": 58,
     "metadata": {},
     "output_type": "execute_result"
    }
   ],
   "source": [
    "\n",
    "columnsNamesArr = df2.columns.values\n",
    "Names=df2.columns.values[feature_name]\n",
    "Names"
   ]
  },
  {
   "cell_type": "code",
   "execution_count": 59,
   "metadata": {},
   "outputs": [
    {
     "data": {
      "text/html": [
       "<div>\n",
       "<style scoped>\n",
       "    .dataframe tbody tr th:only-of-type {\n",
       "        vertical-align: middle;\n",
       "    }\n",
       "\n",
       "    .dataframe tbody tr th {\n",
       "        vertical-align: top;\n",
       "    }\n",
       "\n",
       "    .dataframe thead th {\n",
       "        text-align: right;\n",
       "    }\n",
       "</style>\n",
       "<table border=\"1\" class=\"dataframe\">\n",
       "  <thead>\n",
       "    <tr style=\"text-align: right;\">\n",
       "      <th></th>\n",
       "      <th>Names</th>\n",
       "      <th>Feature</th>\n",
       "      <th>Pearson</th>\n",
       "      <th>Chi-2</th>\n",
       "      <th>RFE</th>\n",
       "      <th>Logistics l1</th>\n",
       "      <th>Logistics l2</th>\n",
       "      <th>Linear Reg</th>\n",
       "      <th>Random Forest</th>\n",
       "      <th>Total</th>\n",
       "    </tr>\n",
       "  </thead>\n",
       "  <tbody>\n",
       "    <tr>\n",
       "      <th>57</th>\n",
       "      <td>Date: Closed Month</td>\n",
       "      <td>87</td>\n",
       "      <td>False</td>\n",
       "      <td>False</td>\n",
       "      <td>False</td>\n",
       "      <td>True</td>\n",
       "      <td>False</td>\n",
       "      <td>False</td>\n",
       "      <td>True</td>\n",
       "      <td>89.0</td>\n",
       "    </tr>\n",
       "    <tr>\n",
       "      <th>56</th>\n",
       "      <td>Date: Closed Year</td>\n",
       "      <td>86</td>\n",
       "      <td>False</td>\n",
       "      <td>False</td>\n",
       "      <td>False</td>\n",
       "      <td>True</td>\n",
       "      <td>False</td>\n",
       "      <td>False</td>\n",
       "      <td>True</td>\n",
       "      <td>88.0</td>\n",
       "    </tr>\n",
       "    <tr>\n",
       "      <th>55</th>\n",
       "      <td>Date: Started Day</td>\n",
       "      <td>84</td>\n",
       "      <td>False</td>\n",
       "      <td>False</td>\n",
       "      <td>True</td>\n",
       "      <td>True</td>\n",
       "      <td>False</td>\n",
       "      <td>False</td>\n",
       "      <td>True</td>\n",
       "      <td>87.0</td>\n",
       "    </tr>\n",
       "    <tr>\n",
       "      <th>54</th>\n",
       "      <td>Flag: Has TR</td>\n",
       "      <td>79</td>\n",
       "      <td>True</td>\n",
       "      <td>False</td>\n",
       "      <td>True</td>\n",
       "      <td>True</td>\n",
       "      <td>True</td>\n",
       "      <td>True</td>\n",
       "      <td>True</td>\n",
       "      <td>85.0</td>\n",
       "    </tr>\n",
       "    <tr>\n",
       "      <th>53</th>\n",
       "      <td>Time Reported (Min)</td>\n",
       "      <td>78</td>\n",
       "      <td>True</td>\n",
       "      <td>True</td>\n",
       "      <td>True</td>\n",
       "      <td>True</td>\n",
       "      <td>True</td>\n",
       "      <td>True</td>\n",
       "      <td>True</td>\n",
       "      <td>85.0</td>\n",
       "    </tr>\n",
       "    <tr>\n",
       "      <th>52</th>\n",
       "      <td>Sold to Party Country</td>\n",
       "      <td>76</td>\n",
       "      <td>False</td>\n",
       "      <td>False</td>\n",
       "      <td>False</td>\n",
       "      <td>True</td>\n",
       "      <td>False</td>\n",
       "      <td>False</td>\n",
       "      <td>False</td>\n",
       "      <td>77.0</td>\n",
       "    </tr>\n",
       "    <tr>\n",
       "      <th>51</th>\n",
       "      <td>Sold to Party</td>\n",
       "      <td>75</td>\n",
       "      <td>False</td>\n",
       "      <td>False</td>\n",
       "      <td>False</td>\n",
       "      <td>True</td>\n",
       "      <td>False</td>\n",
       "      <td>False</td>\n",
       "      <td>True</td>\n",
       "      <td>77.0</td>\n",
       "    </tr>\n",
       "    <tr>\n",
       "      <th>50</th>\n",
       "      <td>Severity</td>\n",
       "      <td>74</td>\n",
       "      <td>False</td>\n",
       "      <td>False</td>\n",
       "      <td>True</td>\n",
       "      <td>True</td>\n",
       "      <td>False</td>\n",
       "      <td>False</td>\n",
       "      <td>True</td>\n",
       "      <td>77.0</td>\n",
       "    </tr>\n",
       "    <tr>\n",
       "      <th>49</th>\n",
       "      <td>Flag: REM Backdated</td>\n",
       "      <td>72</td>\n",
       "      <td>False</td>\n",
       "      <td>False</td>\n",
       "      <td>False</td>\n",
       "      <td>True</td>\n",
       "      <td>False</td>\n",
       "      <td>False</td>\n",
       "      <td>False</td>\n",
       "      <td>73.0</td>\n",
       "    </tr>\n",
       "    <tr>\n",
       "      <th>48</th>\n",
       "      <td>Network</td>\n",
       "      <td>68</td>\n",
       "      <td>False</td>\n",
       "      <td>False</td>\n",
       "      <td>False</td>\n",
       "      <td>True</td>\n",
       "      <td>False</td>\n",
       "      <td>False</td>\n",
       "      <td>False</td>\n",
       "      <td>69.0</td>\n",
       "    </tr>\n",
       "    <tr>\n",
       "      <th>46</th>\n",
       "      <td>EROU SF Full Name</td>\n",
       "      <td>62</td>\n",
       "      <td>False</td>\n",
       "      <td>False</td>\n",
       "      <td>True</td>\n",
       "      <td>True</td>\n",
       "      <td>True</td>\n",
       "      <td>True</td>\n",
       "      <td>True</td>\n",
       "      <td>67.0</td>\n",
       "    </tr>\n",
       "    <tr>\n",
       "      <th>47</th>\n",
       "      <td>Final Ext# Customer</td>\n",
       "      <td>63</td>\n",
       "      <td>False</td>\n",
       "      <td>False</td>\n",
       "      <td>False</td>\n",
       "      <td>True</td>\n",
       "      <td>False</td>\n",
       "      <td>False</td>\n",
       "      <td>True</td>\n",
       "      <td>65.0</td>\n",
       "    </tr>\n",
       "    <tr>\n",
       "      <th>43</th>\n",
       "      <td>Hrs/CSR</td>\n",
       "      <td>58</td>\n",
       "      <td>True</td>\n",
       "      <td>True</td>\n",
       "      <td>True</td>\n",
       "      <td>True</td>\n",
       "      <td>False</td>\n",
       "      <td>False</td>\n",
       "      <td>True</td>\n",
       "      <td>63.0</td>\n",
       "    </tr>\n",
       "    <tr>\n",
       "      <th>44</th>\n",
       "      <td>EER Country</td>\n",
       "      <td>59</td>\n",
       "      <td>True</td>\n",
       "      <td>True</td>\n",
       "      <td>False</td>\n",
       "      <td>True</td>\n",
       "      <td>False</td>\n",
       "      <td>False</td>\n",
       "      <td>True</td>\n",
       "      <td>63.0</td>\n",
       "    </tr>\n",
       "    <tr>\n",
       "      <th>45</th>\n",
       "      <td>EROU Level</td>\n",
       "      <td>60</td>\n",
       "      <td>False</td>\n",
       "      <td>False</td>\n",
       "      <td>True</td>\n",
       "      <td>True</td>\n",
       "      <td>False</td>\n",
       "      <td>False</td>\n",
       "      <td>False</td>\n",
       "      <td>62.0</td>\n",
       "    </tr>\n",
       "    <tr>\n",
       "      <th>41</th>\n",
       "      <td>x Days - TMR after CSR Closure</td>\n",
       "      <td>54</td>\n",
       "      <td>True</td>\n",
       "      <td>True</td>\n",
       "      <td>True</td>\n",
       "      <td>True</td>\n",
       "      <td>True</td>\n",
       "      <td>True</td>\n",
       "      <td>False</td>\n",
       "      <td>60.0</td>\n",
       "    </tr>\n",
       "    <tr>\n",
       "      <th>42</th>\n",
       "      <td>Global Hours</td>\n",
       "      <td>56</td>\n",
       "      <td>False</td>\n",
       "      <td>False</td>\n",
       "      <td>False</td>\n",
       "      <td>True</td>\n",
       "      <td>False</td>\n",
       "      <td>False</td>\n",
       "      <td>False</td>\n",
       "      <td>57.0</td>\n",
       "    </tr>\n",
       "    <tr>\n",
       "      <th>40</th>\n",
       "      <td>Hours</td>\n",
       "      <td>52</td>\n",
       "      <td>True</td>\n",
       "      <td>True</td>\n",
       "      <td>False</td>\n",
       "      <td>True</td>\n",
       "      <td>False</td>\n",
       "      <td>False</td>\n",
       "      <td>False</td>\n",
       "      <td>55.0</td>\n",
       "    </tr>\n",
       "    <tr>\n",
       "      <th>39</th>\n",
       "      <td>Customer</td>\n",
       "      <td>47</td>\n",
       "      <td>True</td>\n",
       "      <td>True</td>\n",
       "      <td>False</td>\n",
       "      <td>True</td>\n",
       "      <td>False</td>\n",
       "      <td>False</td>\n",
       "      <td>False</td>\n",
       "      <td>50.0</td>\n",
       "    </tr>\n",
       "    <tr>\n",
       "      <th>37</th>\n",
       "      <td>RST Prov (Vol)</td>\n",
       "      <td>43</td>\n",
       "      <td>True</td>\n",
       "      <td>True</td>\n",
       "      <td>True</td>\n",
       "      <td>True</td>\n",
       "      <td>True</td>\n",
       "      <td>True</td>\n",
       "      <td>True</td>\n",
       "      <td>50.0</td>\n",
       "    </tr>\n",
       "    <tr>\n",
       "      <th>35</th>\n",
       "      <td>RST Prov not on Tgt (Vol)</td>\n",
       "      <td>41</td>\n",
       "      <td>True</td>\n",
       "      <td>True</td>\n",
       "      <td>True</td>\n",
       "      <td>True</td>\n",
       "      <td>True</td>\n",
       "      <td>True</td>\n",
       "      <td>True</td>\n",
       "      <td>48.0</td>\n",
       "    </tr>\n",
       "    <tr>\n",
       "      <th>38</th>\n",
       "      <td>CSR (Vol)</td>\n",
       "      <td>46</td>\n",
       "      <td>False</td>\n",
       "      <td>False</td>\n",
       "      <td>False</td>\n",
       "      <td>True</td>\n",
       "      <td>False</td>\n",
       "      <td>False</td>\n",
       "      <td>False</td>\n",
       "      <td>47.0</td>\n",
       "    </tr>\n",
       "    <tr>\n",
       "      <th>36</th>\n",
       "      <td>RST Prov on Tgt (Vol)</td>\n",
       "      <td>42</td>\n",
       "      <td>True</td>\n",
       "      <td>True</td>\n",
       "      <td>False</td>\n",
       "      <td>True</td>\n",
       "      <td>False</td>\n",
       "      <td>False</td>\n",
       "      <td>False</td>\n",
       "      <td>45.0</td>\n",
       "    </tr>\n",
       "    <tr>\n",
       "      <th>34</th>\n",
       "      <td>RST pend Acc (Vol)</td>\n",
       "      <td>40</td>\n",
       "      <td>True</td>\n",
       "      <td>True</td>\n",
       "      <td>True</td>\n",
       "      <td>True</td>\n",
       "      <td>False</td>\n",
       "      <td>False</td>\n",
       "      <td>True</td>\n",
       "      <td>45.0</td>\n",
       "    </tr>\n",
       "    <tr>\n",
       "      <th>33</th>\n",
       "      <td>RST Acc (Vol)</td>\n",
       "      <td>38</td>\n",
       "      <td>True</td>\n",
       "      <td>True</td>\n",
       "      <td>True</td>\n",
       "      <td>True</td>\n",
       "      <td>True</td>\n",
       "      <td>True</td>\n",
       "      <td>False</td>\n",
       "      <td>44.0</td>\n",
       "    </tr>\n",
       "    <tr>\n",
       "      <th>32</th>\n",
       "      <td>REM Prov (Vol)</td>\n",
       "      <td>34</td>\n",
       "      <td>True</td>\n",
       "      <td>True</td>\n",
       "      <td>True</td>\n",
       "      <td>True</td>\n",
       "      <td>True</td>\n",
       "      <td>True</td>\n",
       "      <td>True</td>\n",
       "      <td>41.0</td>\n",
       "    </tr>\n",
       "    <tr>\n",
       "      <th>31</th>\n",
       "      <td>REM Prov on Tgt (Vol)</td>\n",
       "      <td>33</td>\n",
       "      <td>True</td>\n",
       "      <td>True</td>\n",
       "      <td>True</td>\n",
       "      <td>True</td>\n",
       "      <td>True</td>\n",
       "      <td>True</td>\n",
       "      <td>False</td>\n",
       "      <td>39.0</td>\n",
       "    </tr>\n",
       "    <tr>\n",
       "      <th>30</th>\n",
       "      <td>REM Prov not on Tgt (Vol)</td>\n",
       "      <td>32</td>\n",
       "      <td>True</td>\n",
       "      <td>True</td>\n",
       "      <td>True</td>\n",
       "      <td>True</td>\n",
       "      <td>True</td>\n",
       "      <td>False</td>\n",
       "      <td>True</td>\n",
       "      <td>38.0</td>\n",
       "    </tr>\n",
       "    <tr>\n",
       "      <th>29</th>\n",
       "      <td>REM Not Prov Overdue (Vol)</td>\n",
       "      <td>31</td>\n",
       "      <td>True</td>\n",
       "      <td>True</td>\n",
       "      <td>True</td>\n",
       "      <td>True</td>\n",
       "      <td>True</td>\n",
       "      <td>True</td>\n",
       "      <td>False</td>\n",
       "      <td>37.0</td>\n",
       "    </tr>\n",
       "    <tr>\n",
       "      <th>27</th>\n",
       "      <td>Product Life Cycle</td>\n",
       "      <td>29</td>\n",
       "      <td>True</td>\n",
       "      <td>True</td>\n",
       "      <td>True</td>\n",
       "      <td>True</td>\n",
       "      <td>False</td>\n",
       "      <td>False</td>\n",
       "      <td>True</td>\n",
       "      <td>34.0</td>\n",
       "    </tr>\n",
       "    <tr>\n",
       "      <th>24</th>\n",
       "      <td>Original Severity</td>\n",
       "      <td>26</td>\n",
       "      <td>True</td>\n",
       "      <td>True</td>\n",
       "      <td>True</td>\n",
       "      <td>True</td>\n",
       "      <td>True</td>\n",
       "      <td>True</td>\n",
       "      <td>True</td>\n",
       "      <td>33.0</td>\n",
       "    </tr>\n",
       "    <tr>\n",
       "      <th>28</th>\n",
       "      <td>REM Acc (Vol)</td>\n",
       "      <td>30</td>\n",
       "      <td>True</td>\n",
       "      <td>True</td>\n",
       "      <td>False</td>\n",
       "      <td>True</td>\n",
       "      <td>False</td>\n",
       "      <td>False</td>\n",
       "      <td>False</td>\n",
       "      <td>33.0</td>\n",
       "    </tr>\n",
       "    <tr>\n",
       "      <th>26</th>\n",
       "      <td>Flag: Overdue CSR</td>\n",
       "      <td>28</td>\n",
       "      <td>True</td>\n",
       "      <td>True</td>\n",
       "      <td>False</td>\n",
       "      <td>True</td>\n",
       "      <td>False</td>\n",
       "      <td>False</td>\n",
       "      <td>False</td>\n",
       "      <td>31.0</td>\n",
       "    </tr>\n",
       "    <tr>\n",
       "      <th>23</th>\n",
       "      <td>CSR Open (Vol)</td>\n",
       "      <td>25</td>\n",
       "      <td>True</td>\n",
       "      <td>True</td>\n",
       "      <td>True</td>\n",
       "      <td>True</td>\n",
       "      <td>True</td>\n",
       "      <td>True</td>\n",
       "      <td>False</td>\n",
       "      <td>31.0</td>\n",
       "    </tr>\n",
       "    <tr>\n",
       "      <th>22</th>\n",
       "      <td>Last Status</td>\n",
       "      <td>24</td>\n",
       "      <td>True</td>\n",
       "      <td>True</td>\n",
       "      <td>True</td>\n",
       "      <td>True</td>\n",
       "      <td>True</td>\n",
       "      <td>True</td>\n",
       "      <td>True</td>\n",
       "      <td>31.0</td>\n",
       "    </tr>\n",
       "    <tr>\n",
       "      <th>25</th>\n",
       "      <td>CSR Origin</td>\n",
       "      <td>27</td>\n",
       "      <td>True</td>\n",
       "      <td>True</td>\n",
       "      <td>False</td>\n",
       "      <td>False</td>\n",
       "      <td>False</td>\n",
       "      <td>False</td>\n",
       "      <td>False</td>\n",
       "      <td>29.0</td>\n",
       "    </tr>\n",
       "    <tr>\n",
       "      <th>20</th>\n",
       "      <td>DEL Pend Acc (Vol)</td>\n",
       "      <td>20</td>\n",
       "      <td>True</td>\n",
       "      <td>True</td>\n",
       "      <td>True</td>\n",
       "      <td>True</td>\n",
       "      <td>True</td>\n",
       "      <td>True</td>\n",
       "      <td>True</td>\n",
       "      <td>27.0</td>\n",
       "    </tr>\n",
       "    <tr>\n",
       "      <th>21</th>\n",
       "      <td>Issue Category</td>\n",
       "      <td>23</td>\n",
       "      <td>False</td>\n",
       "      <td>False</td>\n",
       "      <td>False</td>\n",
       "      <td>True</td>\n",
       "      <td>False</td>\n",
       "      <td>False</td>\n",
       "      <td>False</td>\n",
       "      <td>24.0</td>\n",
       "    </tr>\n",
       "    <tr>\n",
       "      <th>19</th>\n",
       "      <td>DEL Acc (Vol)</td>\n",
       "      <td>19</td>\n",
       "      <td>True</td>\n",
       "      <td>True</td>\n",
       "      <td>True</td>\n",
       "      <td>True</td>\n",
       "      <td>True</td>\n",
       "      <td>False</td>\n",
       "      <td>False</td>\n",
       "      <td>24.0</td>\n",
       "    </tr>\n",
       "  </tbody>\n",
       "</table>\n",
       "</div>"
      ],
      "text/plain": [
       "                             Names  Feature  Pearson  Chi-2    RFE  \\\n",
       "57              Date: Closed Month       87    False  False  False   \n",
       "56               Date: Closed Year       86    False  False  False   \n",
       "55               Date: Started Day       84    False  False   True   \n",
       "54                    Flag: Has TR       79     True  False   True   \n",
       "53             Time Reported (Min)       78     True   True   True   \n",
       "52           Sold to Party Country       76    False  False  False   \n",
       "51                   Sold to Party       75    False  False  False   \n",
       "50                        Severity       74    False  False   True   \n",
       "49             Flag: REM Backdated       72    False  False  False   \n",
       "48                         Network       68    False  False  False   \n",
       "46               EROU SF Full Name       62    False  False   True   \n",
       "47             Final Ext# Customer       63    False  False  False   \n",
       "43                         Hrs/CSR       58     True   True   True   \n",
       "44                     EER Country       59     True   True  False   \n",
       "45                      EROU Level       60    False  False   True   \n",
       "41  x Days - TMR after CSR Closure       54     True   True   True   \n",
       "42                    Global Hours       56    False  False  False   \n",
       "40                           Hours       52     True   True  False   \n",
       "39                        Customer       47     True   True  False   \n",
       "37                  RST Prov (Vol)       43     True   True   True   \n",
       "35       RST Prov not on Tgt (Vol)       41     True   True   True   \n",
       "38                       CSR (Vol)       46    False  False  False   \n",
       "36           RST Prov on Tgt (Vol)       42     True   True  False   \n",
       "34              RST pend Acc (Vol)       40     True   True   True   \n",
       "33                   RST Acc (Vol)       38     True   True   True   \n",
       "32                  REM Prov (Vol)       34     True   True   True   \n",
       "31           REM Prov on Tgt (Vol)       33     True   True   True   \n",
       "30       REM Prov not on Tgt (Vol)       32     True   True   True   \n",
       "29      REM Not Prov Overdue (Vol)       31     True   True   True   \n",
       "27              Product Life Cycle       29     True   True   True   \n",
       "24               Original Severity       26     True   True   True   \n",
       "28                   REM Acc (Vol)       30     True   True  False   \n",
       "26               Flag: Overdue CSR       28     True   True  False   \n",
       "23                  CSR Open (Vol)       25     True   True   True   \n",
       "22                     Last Status       24     True   True   True   \n",
       "25                      CSR Origin       27     True   True  False   \n",
       "20              DEL Pend Acc (Vol)       20     True   True   True   \n",
       "21                  Issue Category       23    False  False  False   \n",
       "19                   DEL Acc (Vol)       19     True   True   True   \n",
       "\n",
       "    Logistics l1  Logistics l2  Linear Reg  Random Forest  Total  \n",
       "57          True         False       False           True   89.0  \n",
       "56          True         False       False           True   88.0  \n",
       "55          True         False       False           True   87.0  \n",
       "54          True          True        True           True   85.0  \n",
       "53          True          True        True           True   85.0  \n",
       "52          True         False       False          False   77.0  \n",
       "51          True         False       False           True   77.0  \n",
       "50          True         False       False           True   77.0  \n",
       "49          True         False       False          False   73.0  \n",
       "48          True         False       False          False   69.0  \n",
       "46          True          True        True           True   67.0  \n",
       "47          True         False       False           True   65.0  \n",
       "43          True         False       False           True   63.0  \n",
       "44          True         False       False           True   63.0  \n",
       "45          True         False       False          False   62.0  \n",
       "41          True          True        True          False   60.0  \n",
       "42          True         False       False          False   57.0  \n",
       "40          True         False       False          False   55.0  \n",
       "39          True         False       False          False   50.0  \n",
       "37          True          True        True           True   50.0  \n",
       "35          True          True        True           True   48.0  \n",
       "38          True         False       False          False   47.0  \n",
       "36          True         False       False          False   45.0  \n",
       "34          True         False       False           True   45.0  \n",
       "33          True          True        True          False   44.0  \n",
       "32          True          True        True           True   41.0  \n",
       "31          True          True        True          False   39.0  \n",
       "30          True          True       False           True   38.0  \n",
       "29          True          True        True          False   37.0  \n",
       "27          True         False       False           True   34.0  \n",
       "24          True          True        True           True   33.0  \n",
       "28          True         False       False          False   33.0  \n",
       "26          True         False       False          False   31.0  \n",
       "23          True          True        True          False   31.0  \n",
       "22          True          True        True           True   31.0  \n",
       "25         False         False       False          False   29.0  \n",
       "20          True          True        True           True   27.0  \n",
       "21          True         False       False          False   24.0  \n",
       "19          True          True       False          False   24.0  "
      ]
     },
     "execution_count": 59,
     "metadata": {},
     "output_type": "execute_result"
    }
   ],
   "source": [
    "# put all selection together\n",
    "feature_selection_df = pd.DataFrame({'Names':Names,'Feature':feature_name,'Pearson':cor_support, 'Chi-2':chi_support, 'RFE':rfe_support,'Logistics l1':embeded_l1_support, 'Logistics l2':embeded_lr_support,\n",
    "                                    'Linear Reg':embeded_lir_support,'Random Forest':embeded_rf_support, })\n",
    "# count the selected times for each feature\n",
    "feature_selection_df['Total'] = np.sum(feature_selection_df, axis=1)\n",
    "# display the top 100\n",
    "feature_selection_df = feature_selection_df.sort_values(['Total'] , ascending=False)\n",
    "#feature_selection_df.index = range(1, len(feature_selection_df)+1)\n",
    "feature_selection_df.head(num_feats)"
   ]
  },
  {
   "cell_type": "markdown",
   "metadata": {},
   "source": [
    "### Feature Importance"
   ]
  },
  {
   "cell_type": "code",
   "execution_count": 60,
   "metadata": {},
   "outputs": [
    {
     "name": "stdout",
     "output_type": "stream",
     "text": [
      "[0.0248479  0.00411598 0.01506173 0.01646011 0.0187497  0.01357917\n",
      " 0.01185728 0.01521343 0.00360857 0.0146007  0.0013234  0.02327854\n",
      " 0.00929291 0.01801703 0.02006807 0.03588784 0.02516474 0.01576601\n",
      " 0.0199064  0.01852314 0.03174164 0.00834516 0.018837   0.00564931\n",
      " 0.04035688 0.01545987 0.01276608 0.01760358 0.01239332 0.0042769\n",
      " 0.01885222 0.00986506 0.02583875 0.01679865 0.02244349 0.03266588\n",
      " 0.00515364 0.01932453 0.00493208 0.00797915 0.01729969 0.01840168\n",
      " 0.01882896 0.02133592 0.01869174 0.01830066 0.0213212  0.01951821\n",
      " 0.01720841 0.01814828 0.01990001 0.01977451 0.01865273 0.02182718\n",
      " 0.01980261 0.01718137 0.01801546 0.01918554]\n"
     ]
    },
    {
     "data": {
      "image/png": "[encoded data removed]",
      "text/plain": [
       "<Figure size 432x288 with 1 Axes>"
      ]
     },
     "metadata": {},
     "output_type": "display_data"
    }
   ],
   "source": [
    "import pandas as pd\n",
    "import numpy as np\n",
    "\n",
    "\n",
    "from sklearn.ensemble import ExtraTreesClassifier\n",
    "import matplotlib.pyplot as plt\n",
    "model = ExtraTreesClassifier()\n",
    "model.fit(Xb_train_uncorr,y2_train)\n",
    "print(model.feature_importances_) #use inbuilt class feature_importances of tree based classifiers\n",
    "#plot graph of feature importances for better visualization\n",
    "feat_importances = pd.Series(model.feature_importances_, index=Xb_train_uncorr.columns)\n",
    "feat_importances.nlargest(10).plot(kind='barh')\n",
    "plt.show()"
   ]
  },
  {
   "cell_type": "markdown",
   "metadata": {},
   "source": [
    "##  Random Forest\n"
   ]
  },
  {
   "cell_type": "markdown",
   "metadata": {},
   "source": [
    "### Random Search cross validation in Scikit Learn"
   ]
  },
  {
   "cell_type": "code",
   "execution_count": 61,
   "metadata": {},
   "outputs": [
    {
     "name": "stdout",
     "output_type": "stream",
     "text": [
      "Parameters currently in use:\n",
      "\n",
      "{'bootstrap': True,\n",
      " 'ccp_alpha': 0.0,\n",
      " 'class_weight': None,\n",
      " 'criterion': 'gini',\n",
      " 'max_depth': None,\n",
      " 'max_features': 'auto',\n",
      " 'max_leaf_nodes': None,\n",
      " 'max_samples': None,\n",
      " 'min_impurity_decrease': 0.0,\n",
      " 'min_impurity_split': None,\n",
      " 'min_samples_leaf': 1,\n",
      " 'min_samples_split': 2,\n",
      " 'min_weight_fraction_leaf': 0.0,\n",
      " 'n_estimators': 100,\n",
      " 'n_jobs': None,\n",
      " 'oob_score': False,\n",
      " 'random_state': 42,\n",
      " 'verbose': 0,\n",
      " 'warm_start': False}\n"
     ]
    }
   ],
   "source": [
    "from sklearn.ensemble import RandomForestClassifier\n",
    "from pprint import pprint\n",
    "\n",
    "rf = RandomForestClassifier(random_state = 42)\n",
    "\n",
    "\n",
    "\n",
    "# Look at parameters used by ourcurrent forest\n",
    "print('Parameters currently in use:\\n')\n",
    "pprint(rf.get_params())"
   ]
  },
  {
   "cell_type": "markdown",
   "metadata": {},
   "source": [
    "### Random Hyperparameter Grid"
   ]
  },
  {
   "cell_type": "code",
   "execution_count": 62,
   "metadata": {},
   "outputs": [
    {
     "name": "stdout",
     "output_type": "stream",
     "text": [
      "{'bootstrap': [True, False],\n",
      " 'max_depth': [10, 20, 30, 40, 50, 60, 70, 80, 90, 100, 110, None],\n",
      " 'max_features': ['auto', 'sqrt'],\n",
      " 'min_samples_leaf': [1, 2, 4],\n",
      " 'min_samples_split': [2, 5, 10],\n",
      " 'n_estimators': [200, 400, 600, 800, 1000, 1200, 1400, 1600, 1800, 2000]}\n"
     ]
    }
   ],
   "source": [
    "from sklearn.model_selection import RandomizedSearchCV\n",
    "\n",
    "# Number of trees in random forest\n",
    "n_estimators = [int(x) for x in np.linspace(start = 200, stop = 2000, num = 10)]\n",
    "\n",
    "# Number of features to consider at every split\n",
    "max_features = ['auto', 'sqrt']\n",
    "\n",
    "# Maximum number of levels in tree\n",
    "max_depth = [int(x) for x in np.linspace(10, 110, num = 11)]\n",
    "max_depth.append(None)\n",
    "\n",
    "# Minimum number of samples required to split a node\n",
    "min_samples_split = [2, 5, 10]\n",
    "\n",
    "# Minimum number of samples required at each leaf node\n",
    "min_samples_leaf = [1, 2, 4]\n",
    "\n",
    "# Method of selecting samples for training each tree\n",
    "bootstrap = [True, False]\n",
    "\n",
    "# Create the random grid\n",
    "random_grid = {'n_estimators': n_estimators,\n",
    "               'max_features': max_features,\n",
    "               'max_depth': max_depth,\n",
    "               'min_samples_split': min_samples_split,\n",
    "               'min_samples_leaf': min_samples_leaf,\n",
    "               'bootstrap': bootstrap}\n",
    "\n",
    "pprint(random_grid)"
   ]
  },
  {
   "cell_type": "code",
   "execution_count": 77,
   "metadata": {},
   "outputs": [
    {
     "name": "stdout",
     "output_type": "stream",
     "text": [
      "Fitting 3 folds for each of 100 candidates, totalling 300 fits\n"
     ]
    },
    {
     "name": "stderr",
     "output_type": "stream",
     "text": [
      "[Parallel(n_jobs=-1)]: Using backend LokyBackend with 8 concurrent workers.\n",
      "[Parallel(n_jobs=-1)]: Done  25 tasks      | elapsed:   38.2s\n"
     ]
    },
    {
     "ename": "KeyboardInterrupt",
     "evalue": "",
     "output_type": "error",
     "traceback": [
      "\u001b[1;31m---------------------------------------------------------------------------\u001b[0m",
      "\u001b[1;31mKeyboardInterrupt\u001b[0m                         Traceback (most recent call last)",
      "\u001b[1;32m<ipython-input-77-2fbfdf01599e>\u001b[0m in \u001b[0;36m<module>\u001b[1;34m\u001b[0m\n\u001b[0;32m      9\u001b[0m \u001b[1;33m\u001b[0m\u001b[0m\n\u001b[0;32m     10\u001b[0m \u001b[1;31m# Fit the random search model\u001b[0m\u001b[1;33m\u001b[0m\u001b[1;33m\u001b[0m\u001b[1;33m\u001b[0m\u001b[0m\n\u001b[1;32m---> 11\u001b[1;33m \u001b[0mrf_random\u001b[0m\u001b[1;33m.\u001b[0m\u001b[0mfit\u001b[0m\u001b[1;33m(\u001b[0m\u001b[0mXb_train_uncorr\u001b[0m\u001b[1;33m,\u001b[0m \u001b[0my2_train\u001b[0m\u001b[1;33m)\u001b[0m\u001b[1;33m\u001b[0m\u001b[1;33m\u001b[0m\u001b[0m\n\u001b[0m",
      "\u001b[1;32mc:\\users\\ekvaeri\\appdata\\local\\programs\\python\\python38-32\\lib\\site-packages\\sklearn\\utils\\validation.py\u001b[0m in \u001b[0;36minner_f\u001b[1;34m(*args, **kwargs)\u001b[0m\n\u001b[0;32m     71\u001b[0m                           FutureWarning)\n\u001b[0;32m     72\u001b[0m         \u001b[0mkwargs\u001b[0m\u001b[1;33m.\u001b[0m\u001b[0mupdate\u001b[0m\u001b[1;33m(\u001b[0m\u001b[1;33m{\u001b[0m\u001b[0mk\u001b[0m\u001b[1;33m:\u001b[0m \u001b[0marg\u001b[0m \u001b[1;32mfor\u001b[0m \u001b[0mk\u001b[0m\u001b[1;33m,\u001b[0m \u001b[0marg\u001b[0m \u001b[1;32min\u001b[0m \u001b[0mzip\u001b[0m\u001b[1;33m(\u001b[0m\u001b[0msig\u001b[0m\u001b[1;33m.\u001b[0m\u001b[0mparameters\u001b[0m\u001b[1;33m,\u001b[0m \u001b[0margs\u001b[0m\u001b[1;33m)\u001b[0m\u001b[1;33m}\u001b[0m\u001b[1;33m)\u001b[0m\u001b[1;33m\u001b[0m\u001b[1;33m\u001b[0m\u001b[0m\n\u001b[1;32m---> 73\u001b[1;33m         \u001b[1;32mreturn\u001b[0m \u001b[0mf\u001b[0m\u001b[1;33m(\u001b[0m\u001b[1;33m**\u001b[0m\u001b[0mkwargs\u001b[0m\u001b[1;33m)\u001b[0m\u001b[1;33m\u001b[0m\u001b[1;33m\u001b[0m\u001b[0m\n\u001b[0m\u001b[0;32m     74\u001b[0m     \u001b[1;32mreturn\u001b[0m \u001b[0minner_f\u001b[0m\u001b[1;33m\u001b[0m\u001b[1;33m\u001b[0m\u001b[0m\n\u001b[0;32m     75\u001b[0m \u001b[1;33m\u001b[0m\u001b[0m\n",
      "\u001b[1;32mc:\\users\\ekvaeri\\appdata\\local\\programs\\python\\python38-32\\lib\\site-packages\\sklearn\\model_selection\\_search.py\u001b[0m in \u001b[0;36mfit\u001b[1;34m(self, X, y, groups, **fit_params)\u001b[0m\n\u001b[0;32m    734\u001b[0m                 \u001b[1;32mreturn\u001b[0m \u001b[0mresults\u001b[0m\u001b[1;33m\u001b[0m\u001b[1;33m\u001b[0m\u001b[0m\n\u001b[0;32m    735\u001b[0m \u001b[1;33m\u001b[0m\u001b[0m\n\u001b[1;32m--> 736\u001b[1;33m             \u001b[0mself\u001b[0m\u001b[1;33m.\u001b[0m\u001b[0m_run_search\u001b[0m\u001b[1;33m(\u001b[0m\u001b[0mevaluate_candidates\u001b[0m\u001b[1;33m)\u001b[0m\u001b[1;33m\u001b[0m\u001b[1;33m\u001b[0m\u001b[0m\n\u001b[0m\u001b[0;32m    737\u001b[0m \u001b[1;33m\u001b[0m\u001b[0m\n\u001b[0;32m    738\u001b[0m         \u001b[1;31m# For multi-metric evaluation, store the best_index_, best_params_ and\u001b[0m\u001b[1;33m\u001b[0m\u001b[1;33m\u001b[0m\u001b[1;33m\u001b[0m\u001b[0m\n",
      "\u001b[1;32mc:\\users\\ekvaeri\\appdata\\local\\programs\\python\\python38-32\\lib\\site-packages\\sklearn\\model_selection\\_search.py\u001b[0m in \u001b[0;36m_run_search\u001b[1;34m(self, evaluate_candidates)\u001b[0m\n\u001b[0;32m   1527\u001b[0m     \u001b[1;32mdef\u001b[0m \u001b[0m_run_search\u001b[0m\u001b[1;33m(\u001b[0m\u001b[0mself\u001b[0m\u001b[1;33m,\u001b[0m \u001b[0mevaluate_candidates\u001b[0m\u001b[1;33m)\u001b[0m\u001b[1;33m:\u001b[0m\u001b[1;33m\u001b[0m\u001b[1;33m\u001b[0m\u001b[0m\n\u001b[0;32m   1528\u001b[0m         \u001b[1;34m\"\"\"Search n_iter candidates from param_distributions\"\"\"\u001b[0m\u001b[1;33m\u001b[0m\u001b[1;33m\u001b[0m\u001b[0m\n\u001b[1;32m-> 1529\u001b[1;33m         evaluate_candidates(ParameterSampler(\n\u001b[0m\u001b[0;32m   1530\u001b[0m             \u001b[0mself\u001b[0m\u001b[1;33m.\u001b[0m\u001b[0mparam_distributions\u001b[0m\u001b[1;33m,\u001b[0m \u001b[0mself\u001b[0m\u001b[1;33m.\u001b[0m\u001b[0mn_iter\u001b[0m\u001b[1;33m,\u001b[0m\u001b[1;33m\u001b[0m\u001b[1;33m\u001b[0m\u001b[0m\n\u001b[0;32m   1531\u001b[0m             random_state=self.random_state))\n",
      "\u001b[1;32mc:\\users\\ekvaeri\\appdata\\local\\programs\\python\\python38-32\\lib\\site-packages\\sklearn\\model_selection\\_search.py\u001b[0m in \u001b[0;36mevaluate_candidates\u001b[1;34m(candidate_params)\u001b[0m\n\u001b[0;32m    706\u001b[0m                               n_splits, n_candidates, n_candidates * n_splits))\n\u001b[0;32m    707\u001b[0m \u001b[1;33m\u001b[0m\u001b[0m\n\u001b[1;32m--> 708\u001b[1;33m                 out = parallel(delayed(_fit_and_score)(clone(base_estimator),\n\u001b[0m\u001b[0;32m    709\u001b[0m                                                        \u001b[0mX\u001b[0m\u001b[1;33m,\u001b[0m \u001b[0my\u001b[0m\u001b[1;33m,\u001b[0m\u001b[1;33m\u001b[0m\u001b[1;33m\u001b[0m\u001b[0m\n\u001b[0;32m    710\u001b[0m                                                        \u001b[0mtrain\u001b[0m\u001b[1;33m=\u001b[0m\u001b[0mtrain\u001b[0m\u001b[1;33m,\u001b[0m \u001b[0mtest\u001b[0m\u001b[1;33m=\u001b[0m\u001b[0mtest\u001b[0m\u001b[1;33m,\u001b[0m\u001b[1;33m\u001b[0m\u001b[1;33m\u001b[0m\u001b[0m\n",
      "\u001b[1;32mc:\\users\\ekvaeri\\appdata\\local\\programs\\python\\python38-32\\lib\\site-packages\\joblib\\parallel.py\u001b[0m in \u001b[0;36m__call__\u001b[1;34m(self, iterable)\u001b[0m\n\u001b[0;32m   1015\u001b[0m \u001b[1;33m\u001b[0m\u001b[0m\n\u001b[0;32m   1016\u001b[0m             \u001b[1;32mwith\u001b[0m \u001b[0mself\u001b[0m\u001b[1;33m.\u001b[0m\u001b[0m_backend\u001b[0m\u001b[1;33m.\u001b[0m\u001b[0mretrieval_context\u001b[0m\u001b[1;33m(\u001b[0m\u001b[1;33m)\u001b[0m\u001b[1;33m:\u001b[0m\u001b[1;33m\u001b[0m\u001b[1;33m\u001b[0m\u001b[0m\n\u001b[1;32m-> 1017\u001b[1;33m                 \u001b[0mself\u001b[0m\u001b[1;33m.\u001b[0m\u001b[0mretrieve\u001b[0m\u001b[1;33m(\u001b[0m\u001b[1;33m)\u001b[0m\u001b[1;33m\u001b[0m\u001b[1;33m\u001b[0m\u001b[0m\n\u001b[0m\u001b[0;32m   1018\u001b[0m             \u001b[1;31m# Make sure that we get a last message telling us we are done\u001b[0m\u001b[1;33m\u001b[0m\u001b[1;33m\u001b[0m\u001b[1;33m\u001b[0m\u001b[0m\n\u001b[0;32m   1019\u001b[0m             \u001b[0melapsed_time\u001b[0m \u001b[1;33m=\u001b[0m \u001b[0mtime\u001b[0m\u001b[1;33m.\u001b[0m\u001b[0mtime\u001b[0m\u001b[1;33m(\u001b[0m\u001b[1;33m)\u001b[0m \u001b[1;33m-\u001b[0m \u001b[0mself\u001b[0m\u001b[1;33m.\u001b[0m\u001b[0m_start_time\u001b[0m\u001b[1;33m\u001b[0m\u001b[1;33m\u001b[0m\u001b[0m\n",
      "\u001b[1;32mc:\\users\\ekvaeri\\appdata\\local\\programs\\python\\python38-32\\lib\\site-packages\\joblib\\parallel.py\u001b[0m in \u001b[0;36mretrieve\u001b[1;34m(self)\u001b[0m\n\u001b[0;32m    907\u001b[0m             \u001b[1;32mtry\u001b[0m\u001b[1;33m:\u001b[0m\u001b[1;33m\u001b[0m\u001b[1;33m\u001b[0m\u001b[0m\n\u001b[0;32m    908\u001b[0m                 \u001b[1;32mif\u001b[0m \u001b[0mgetattr\u001b[0m\u001b[1;33m(\u001b[0m\u001b[0mself\u001b[0m\u001b[1;33m.\u001b[0m\u001b[0m_backend\u001b[0m\u001b[1;33m,\u001b[0m \u001b[1;34m'supports_timeout'\u001b[0m\u001b[1;33m,\u001b[0m \u001b[1;32mFalse\u001b[0m\u001b[1;33m)\u001b[0m\u001b[1;33m:\u001b[0m\u001b[1;33m\u001b[0m\u001b[1;33m\u001b[0m\u001b[0m\n\u001b[1;32m--> 909\u001b[1;33m                     \u001b[0mself\u001b[0m\u001b[1;33m.\u001b[0m\u001b[0m_output\u001b[0m\u001b[1;33m.\u001b[0m\u001b[0mextend\u001b[0m\u001b[1;33m(\u001b[0m\u001b[0mjob\u001b[0m\u001b[1;33m.\u001b[0m\u001b[0mget\u001b[0m\u001b[1;33m(\u001b[0m\u001b[0mtimeout\u001b[0m\u001b[1;33m=\u001b[0m\u001b[0mself\u001b[0m\u001b[1;33m.\u001b[0m\u001b[0mtimeout\u001b[0m\u001b[1;33m)\u001b[0m\u001b[1;33m)\u001b[0m\u001b[1;33m\u001b[0m\u001b[1;33m\u001b[0m\u001b[0m\n\u001b[0m\u001b[0;32m    910\u001b[0m                 \u001b[1;32melse\u001b[0m\u001b[1;33m:\u001b[0m\u001b[1;33m\u001b[0m\u001b[1;33m\u001b[0m\u001b[0m\n\u001b[0;32m    911\u001b[0m                     \u001b[0mself\u001b[0m\u001b[1;33m.\u001b[0m\u001b[0m_output\u001b[0m\u001b[1;33m.\u001b[0m\u001b[0mextend\u001b[0m\u001b[1;33m(\u001b[0m\u001b[0mjob\u001b[0m\u001b[1;33m.\u001b[0m\u001b[0mget\u001b[0m\u001b[1;33m(\u001b[0m\u001b[1;33m)\u001b[0m\u001b[1;33m)\u001b[0m\u001b[1;33m\u001b[0m\u001b[1;33m\u001b[0m\u001b[0m\n",
      "\u001b[1;32mc:\\users\\ekvaeri\\appdata\\local\\programs\\python\\python38-32\\lib\\site-packages\\joblib\\_parallel_backends.py\u001b[0m in \u001b[0;36mwrap_future_result\u001b[1;34m(future, timeout)\u001b[0m\n\u001b[0;32m    560\u001b[0m         AsyncResults.get from multiprocessing.\"\"\"\n\u001b[0;32m    561\u001b[0m         \u001b[1;32mtry\u001b[0m\u001b[1;33m:\u001b[0m\u001b[1;33m\u001b[0m\u001b[1;33m\u001b[0m\u001b[0m\n\u001b[1;32m--> 562\u001b[1;33m             \u001b[1;32mreturn\u001b[0m \u001b[0mfuture\u001b[0m\u001b[1;33m.\u001b[0m\u001b[0mresult\u001b[0m\u001b[1;33m(\u001b[0m\u001b[0mtimeout\u001b[0m\u001b[1;33m=\u001b[0m\u001b[0mtimeout\u001b[0m\u001b[1;33m)\u001b[0m\u001b[1;33m\u001b[0m\u001b[1;33m\u001b[0m\u001b[0m\n\u001b[0m\u001b[0;32m    563\u001b[0m         \u001b[1;32mexcept\u001b[0m \u001b[0mLokyTimeoutError\u001b[0m\u001b[1;33m:\u001b[0m\u001b[1;33m\u001b[0m\u001b[1;33m\u001b[0m\u001b[0m\n\u001b[0;32m    564\u001b[0m             \u001b[1;32mraise\u001b[0m \u001b[0mTimeoutError\u001b[0m\u001b[1;33m(\u001b[0m\u001b[1;33m)\u001b[0m\u001b[1;33m\u001b[0m\u001b[1;33m\u001b[0m\u001b[0m\n",
      "\u001b[1;32mc:\\users\\ekvaeri\\appdata\\local\\programs\\python\\python38-32\\lib\\concurrent\\futures\\_base.py\u001b[0m in \u001b[0;36mresult\u001b[1;34m(self, timeout)\u001b[0m\n\u001b[0;32m    432\u001b[0m                 \u001b[1;32mreturn\u001b[0m \u001b[0mself\u001b[0m\u001b[1;33m.\u001b[0m\u001b[0m__get_result\u001b[0m\u001b[1;33m(\u001b[0m\u001b[1;33m)\u001b[0m\u001b[1;33m\u001b[0m\u001b[1;33m\u001b[0m\u001b[0m\n\u001b[0;32m    433\u001b[0m \u001b[1;33m\u001b[0m\u001b[0m\n\u001b[1;32m--> 434\u001b[1;33m             \u001b[0mself\u001b[0m\u001b[1;33m.\u001b[0m\u001b[0m_condition\u001b[0m\u001b[1;33m.\u001b[0m\u001b[0mwait\u001b[0m\u001b[1;33m(\u001b[0m\u001b[0mtimeout\u001b[0m\u001b[1;33m)\u001b[0m\u001b[1;33m\u001b[0m\u001b[1;33m\u001b[0m\u001b[0m\n\u001b[0m\u001b[0;32m    435\u001b[0m \u001b[1;33m\u001b[0m\u001b[0m\n\u001b[0;32m    436\u001b[0m             \u001b[1;32mif\u001b[0m \u001b[0mself\u001b[0m\u001b[1;33m.\u001b[0m\u001b[0m_state\u001b[0m \u001b[1;32min\u001b[0m \u001b[1;33m[\u001b[0m\u001b[0mCANCELLED\u001b[0m\u001b[1;33m,\u001b[0m \u001b[0mCANCELLED_AND_NOTIFIED\u001b[0m\u001b[1;33m]\u001b[0m\u001b[1;33m:\u001b[0m\u001b[1;33m\u001b[0m\u001b[1;33m\u001b[0m\u001b[0m\n",
      "\u001b[1;32mc:\\users\\ekvaeri\\appdata\\local\\programs\\python\\python38-32\\lib\\threading.py\u001b[0m in \u001b[0;36mwait\u001b[1;34m(self, timeout)\u001b[0m\n\u001b[0;32m    300\u001b[0m         \u001b[1;32mtry\u001b[0m\u001b[1;33m:\u001b[0m    \u001b[1;31m# restore state no matter what (e.g., KeyboardInterrupt)\u001b[0m\u001b[1;33m\u001b[0m\u001b[1;33m\u001b[0m\u001b[0m\n\u001b[0;32m    301\u001b[0m             \u001b[1;32mif\u001b[0m \u001b[0mtimeout\u001b[0m \u001b[1;32mis\u001b[0m \u001b[1;32mNone\u001b[0m\u001b[1;33m:\u001b[0m\u001b[1;33m\u001b[0m\u001b[1;33m\u001b[0m\u001b[0m\n\u001b[1;32m--> 302\u001b[1;33m                 \u001b[0mwaiter\u001b[0m\u001b[1;33m.\u001b[0m\u001b[0macquire\u001b[0m\u001b[1;33m(\u001b[0m\u001b[1;33m)\u001b[0m\u001b[1;33m\u001b[0m\u001b[1;33m\u001b[0m\u001b[0m\n\u001b[0m\u001b[0;32m    303\u001b[0m                 \u001b[0mgotit\u001b[0m \u001b[1;33m=\u001b[0m \u001b[1;32mTrue\u001b[0m\u001b[1;33m\u001b[0m\u001b[1;33m\u001b[0m\u001b[0m\n\u001b[0;32m    304\u001b[0m             \u001b[1;32melse\u001b[0m\u001b[1;33m:\u001b[0m\u001b[1;33m\u001b[0m\u001b[1;33m\u001b[0m\u001b[0m\n",
      "\u001b[1;31mKeyboardInterrupt\u001b[0m: "
     ]
    }
   ],
   "source": [
    "# Use the random grid to search for best hyperparameters\n",
    "\n",
    "# First create the base model to tune\n",
    "rf = RandomForestClassifier()\n",
    "\n",
    "# Random search of parameters, using 3 fold cross validation, \n",
    "# search across 100 different combinations, and use all available cores\n",
    "rf_random = RandomizedSearchCV(estimator = rf, param_distributions = random_grid, n_iter = 100, cv = 3, verbose=2, random_state=42, n_jobs = -1)\n",
    "\n",
    "# Fit the random search model\n",
    "rf_random.fit(Xb_train_uncorr, y2_train)"
   ]
  },
  {
   "cell_type": "markdown",
   "metadata": {},
   "source": [
    "Best parameters"
   ]
  },
  {
   "cell_type": "code",
   "execution_count": 171,
   "metadata": {},
   "outputs": [
    {
     "ename": "AttributeError",
     "evalue": "'RandomizedSearchCV' object has no attribute 'best_params_'",
     "output_type": "error",
     "traceback": [
      "\u001b[1;31m---------------------------------------------------------------------------\u001b[0m",
      "\u001b[1;31mAttributeError\u001b[0m                            Traceback (most recent call last)",
      "\u001b[1;32m<ipython-input-171-ea266b0743c6>\u001b[0m in \u001b[0;36m<module>\u001b[1;34m\u001b[0m\n\u001b[1;32m----> 1\u001b[1;33m \u001b[0mrf_random\u001b[0m\u001b[1;33m.\u001b[0m\u001b[0mbest_params_\u001b[0m\u001b[1;33m\u001b[0m\u001b[1;33m\u001b[0m\u001b[0m\n\u001b[0m",
      "\u001b[1;31mAttributeError\u001b[0m: 'RandomizedSearchCV' object has no attribute 'best_params_'"
     ]
    }
   ],
   "source": [
    "rf_random.best_params_"
   ]
  },
  {
   "cell_type": "markdown",
   "metadata": {},
   "source": [
    "### 3.Use Tree-Based Algorithms balanced target\n",
    "* Decision trees often perform well on imbalanced datasets because their hierarchical structure allows them to learn signals from both classes.\n",
    "* In modern applied machine learning, tree ensembles (Random Forests, Gradient Boosted Trees, etc.) almost always outperform singular decision trees, so we'll jump right into those"
   ]
  },
  {
   "cell_type": "markdown",
   "metadata": {},
   "source": [
    "### Hyperparameter tuning and cross validation Decision Tree Calssifier"
   ]
  },
  {
   "cell_type": "code",
   "execution_count": 63,
   "metadata": {},
   "outputs": [
    {
     "name": "stdout",
     "output_type": "stream",
     "text": [
      "[0 1]\n",
      "[[184  44]\n",
      " [ 92 113]]\n",
      "              precision    recall  f1-score   support\n",
      "\n",
      "           0       0.67      0.81      0.73       228\n",
      "           1       0.72      0.55      0.62       205\n",
      "\n",
      "    accuracy                           0.69       433\n",
      "   macro avg       0.69      0.68      0.68       433\n",
      "weighted avg       0.69      0.69      0.68       433\n",
      "\n",
      "Accuracy: 0.69 (+/- 0.06)\n"
     ]
    }
   ],
   "source": [
    "from sklearn.ensemble import RandomForestClassifier\n",
    "from sklearn import model_selection\n",
    "from sklearn.model_selection import StratifiedKFold\n",
    "from sklearn.model_selection import cross_val_score\n",
    "from sklearn.model_selection import cross_val_predict\n",
    "seed = 7\n",
    "num_trees = 100\n",
    "max_features = 7\n",
    "# Train model\n",
    "clf_7 = RandomForestClassifier(random_state=42,criterion='entropy',n_estimators=100,max_leaf_nodes=10,\n",
    "min_samples_split=10,\n",
    "min_samples_leaf=2,\n",
    "max_features= 'sqrt',\n",
    "max_depth=20,\n",
    "bootstrap= False, n_jobs=-1)\n",
    "clf_7=clf_7.fit(Xb_train_uncorr, y2_train)\n",
    "#Skfold = model_selection.StratifiedKFold(n_splits=10, random_state=seed)\n",
    "    \n",
    "scores=cross_val_score(clf_7, Xb_test_uncorr, y2_test, cv=5)\n",
    "pred_y_4 = cross_val_predict(clf_7, Xb_test_uncorr, y2_test, cv=5)\n",
    "# Predict on training set\n",
    "#pred_y_4 = clf_7.predict(Xb_test_uncorr)\n",
    " \n",
    "# Is our model still predicting just one class?\n",
    "print( np.unique( pred_y_4 ) )\n",
    "# [0 1]\n",
    " \n",
    "# How's our accuracy?\n",
    "#print(\"Accuracy balanced target\")\n",
    "#print( accuracy_score(y2_test, pred_y_4) )\n",
    "# 0.9744\n",
    "from sklearn.metrics import classification_report\n",
    "from sklearn.metrics import confusion_matrix\n",
    "\n",
    "\n",
    "print(confusion_matrix(y2_test, pred_y_4 ))\n",
    "print(classification_report(y2_test, pred_y_4 ))\n",
    "\n",
    "print(\"Accuracy: %0.2f (+/- %0.2f)\" % (scores.mean(), scores.std() * 2))"
   ]
  },
  {
   "cell_type": "markdown",
   "metadata": {},
   "source": [
    "# FINE TUNING IN ALL ALGORITHMS"
   ]
  },
  {
   "cell_type": "markdown",
   "metadata": {},
   "source": [
    "### Bagged Decision Trees"
   ]
  },
  {
   "cell_type": "code",
   "execution_count": 64,
   "metadata": {},
   "outputs": [],
   "source": [
    "y2 = balanced_df[\"45DAYS\"]\n",
    "X2 = balanced_df.drop(\"45DAYS\", axis=1)"
   ]
  },
  {
   "cell_type": "markdown",
   "metadata": {},
   "source": [
    "Using x2 and y2 whole data set without feaature engineering"
   ]
  },
  {
   "cell_type": "code",
   "execution_count": 65,
   "metadata": {},
   "outputs": [
    {
     "name": "stderr",
     "output_type": "stream",
     "text": [
      "c:\\users\\ekvaeri\\appdata\\local\\programs\\python\\python38-32\\lib\\site-packages\\sklearn\\model_selection\\_split.py:293: FutureWarning: Setting a random_state has no effect since shuffle is False. This will raise an error in 0.24. You should leave random_state to its default (None), or set shuffle=True.\n",
      "  warnings.warn(\n"
     ]
    },
    {
     "name": "stdout",
     "output_type": "stream",
     "text": [
      "0.7912792434046789\n",
      "0.7912792434046789\n",
      "              precision    recall  f1-score   support\n",
      "\n",
      "           0       0.66      0.72      0.69       228\n",
      "           1       0.65      0.59      0.62       205\n",
      "\n",
      "    accuracy                           0.66       433\n",
      "   macro avg       0.66      0.65      0.65       433\n",
      "weighted avg       0.66      0.66      0.65       433\n",
      "\n",
      "Accuracy: 0.79 (+/- 0.05)\n",
      "[[184  44]\n",
      " [ 92 113]]\n"
     ]
    }
   ],
   "source": [
    "# Bagged Decision Trees for Classification\n",
    "import pandas\n",
    "from sklearn import model_selection\n",
    "from sklearn.ensemble import BaggingClassifier\n",
    "from sklearn.tree import DecisionTreeClassifier\n",
    "\n",
    "seed = 7\n",
    "kfold = model_selection.KFold(n_splits=10, random_state=seed)\n",
    "cart = DecisionTreeClassifier()\n",
    "num_trees = 100\n",
    "model = BaggingClassifier(base_estimator=cart, n_estimators=num_trees, random_state=seed)\n",
    "results = model_selection.cross_val_score(model, Xb_train_uncorr, y2_train, cv=kfold)\n",
    "print(results.mean())\n",
    "resultspred = cross_val_predict(model, Xb_test_uncorr, y2_test, cv=kfold)\n",
    "print(results.mean())\n",
    "\n",
    "print(classification_report(y2_test, resultspred ))\n",
    "\n",
    "print(\"Accuracy: %0.2f (+/- %0.2f)\" % (results.mean(), results.std() * 2))\n",
    "\n",
    "print(confusion_matrix(y2_test, pred_y_4 ))"
   ]
  },
  {
   "cell_type": "markdown",
   "metadata": {},
   "source": [
    "### Extra trees"
   ]
  },
  {
   "cell_type": "code",
   "execution_count": 66,
   "metadata": {},
   "outputs": [
    {
     "name": "stderr",
     "output_type": "stream",
     "text": [
      "c:\\users\\ekvaeri\\appdata\\local\\programs\\python\\python38-32\\lib\\site-packages\\sklearn\\model_selection\\_split.py:293: FutureWarning: Setting a random_state has no effect since shuffle is False. This will raise an error in 0.24. You should leave random_state to its default (None), or set shuffle=True.\n",
      "  warnings.warn(\n"
     ]
    },
    {
     "name": "stdout",
     "output_type": "stream",
     "text": [
      "0.7859399369503899\n",
      "              precision    recall  f1-score   support\n",
      "\n",
      "           0       0.70      0.77      0.73       228\n",
      "           1       0.71      0.62      0.66       205\n",
      "\n",
      "    accuracy                           0.70       433\n",
      "   macro avg       0.70      0.70      0.70       433\n",
      "weighted avg       0.70      0.70      0.70       433\n",
      "\n",
      "Accuracy: 0.79 (+/- 0.06)\n",
      "[[176  52]\n",
      " [ 77 128]]\n"
     ]
    }
   ],
   "source": [
    "from sklearn.ensemble import ExtraTreesClassifier\n",
    "from sklearn.model_selection import StratifiedKFold\n",
    "from sklearn.ensemble import RandomForestClassifier\n",
    "from sklearn import model_selection\n",
    "from sklearn.model_selection import StratifiedKFold\n",
    "from sklearn.model_selection import cross_val_score\n",
    "from sklearn.metrics import classification_report\n",
    "from sklearn.metrics import confusion_matrix\n",
    "from sklearn.model_selection import cross_val_predict\n",
    "import pandas\n",
    "from sklearn import model_selection\n",
    "from sklearn.linear_model import LogisticRegression\n",
    "import pickle\n",
    "seed = 7\n",
    "num_trees = 100\n",
    "max_features = 7\n",
    "Skfold = model_selection.StratifiedKFold(n_splits=10, random_state=seed)\n",
    "model = ExtraTreesClassifier(n_estimators=num_trees, max_features=max_features)\n",
    "results = model_selection.cross_val_score(model,  Xb_train_uncorr, y2_train, cv=Skfold)\n",
    "print(results.mean())\n",
    "\n",
    "resultspred = cross_val_predict(model,Xb_test_uncorr, y2_test, cv=Skfold)\n",
    "\n",
    "\n",
    "print(classification_report(y2_test, resultspred ))\n",
    "\n",
    "print(\"Accuracy: %0.2f (+/- %0.2f)\" % (results.mean(), results.std() * 2))\n",
    "print(confusion_matrix(y2_test, resultspred ))\n",
    "\n",
    "\n",
    "model.fit(Xb_train_uncorr, y2_train)\n",
    "# save the model to disk\n",
    "filename = 'finalized_model.sav'\n",
    "pickle.dump(model, open(filename, 'wb'))"
   ]
  },
  {
   "cell_type": "code",
   "execution_count": 67,
   "metadata": {},
   "outputs": [
    {
     "data": {
      "text/plain": [
       "433"
      ]
     },
     "execution_count": 67,
     "metadata": {},
     "output_type": "execute_result"
    }
   ],
   "source": [
    "len(resultspred)"
   ]
  },
  {
   "cell_type": "code",
   "execution_count": 68,
   "metadata": {},
   "outputs": [
    {
     "data": {
      "text/plain": [
       "433"
      ]
     },
     "execution_count": 68,
     "metadata": {},
     "output_type": "execute_result"
    }
   ],
   "source": [
    "len(y2_test)"
   ]
  },
  {
   "cell_type": "code",
   "execution_count": 69,
   "metadata": {},
   "outputs": [
    {
     "data": {
      "text/plain": [
       "array([1, 0, 0, 1, 0, 1, 1, 0, 0, 0, 1, 1, 1, 0, 0, 0, 1, 0, 0, 1, 0, 0,\n",
       "       1, 1, 0, 0, 1, 1, 1, 0, 1, 0, 0, 0, 1, 0, 0, 0, 0, 0, 0, 0, 0, 0,\n",
       "       0, 0, 0, 1, 0, 1, 1, 0, 0, 0, 0, 0, 0, 1, 1, 0, 0, 1, 0, 0, 1, 1,\n",
       "       1, 1, 0, 0, 0, 1, 1, 0, 1, 1, 1, 1, 1, 0, 1, 1, 0, 1, 1, 1, 0, 0,\n",
       "       1, 0, 0, 0, 1, 1, 1, 1, 1, 1, 1, 0, 0, 0, 1, 1, 0, 1, 0, 0, 0, 0,\n",
       "       0, 0, 0, 1, 0, 1, 1, 1, 0, 0, 0, 0, 1, 0, 0, 1, 0, 0, 0, 0, 0, 1,\n",
       "       0, 1, 0, 1, 0, 1, 0, 0, 0, 1, 0, 0, 1, 0, 0, 1, 0, 1, 1, 0, 1, 0,\n",
       "       0, 1, 0, 0, 1, 0, 0, 0, 1, 1, 0, 1, 0, 1, 0, 0, 0, 1, 0, 1, 0, 1,\n",
       "       1, 0, 0, 1, 1, 0, 1, 0, 0, 0, 1, 0, 0, 1, 0, 0, 1, 0, 0, 0, 0, 0,\n",
       "       1, 0, 0, 1, 0, 0, 1, 1, 0, 0, 0, 0, 1, 0, 0, 1, 1, 1, 0, 1, 1, 0,\n",
       "       1, 0, 1, 1, 0, 1, 1, 1, 1, 0, 0, 1, 1, 1, 0, 0, 1, 0, 1, 0, 1, 1,\n",
       "       0, 1, 0, 0, 0, 1, 1, 0, 1, 0, 0, 1, 1, 0, 1, 0, 1, 1, 0, 0, 0, 0,\n",
       "       0, 0, 0, 0, 0, 0, 1, 1, 0, 0, 1, 0, 0, 1, 1, 0, 0, 1, 0, 0, 1, 0,\n",
       "       1, 1, 0, 1, 0, 0, 0, 1, 0, 0, 0, 0, 0, 0, 0, 0, 1, 1, 0, 0, 0, 0,\n",
       "       1, 0, 1, 1, 1, 1, 0, 0, 1, 1, 1, 1, 0, 1, 0, 0, 0, 0, 0, 0, 0, 1,\n",
       "       0, 1, 0, 0, 0, 0, 0, 1, 1, 0, 1, 0, 1, 1, 1, 0, 1, 0, 0, 0, 1, 1,\n",
       "       0, 1, 0, 0, 1, 0, 1, 0, 1, 1, 0, 0, 1, 0, 0, 1, 0, 0, 0, 0, 1, 1,\n",
       "       0, 0, 0, 0, 1, 1, 0, 1, 1, 0, 0, 0, 1, 1, 0, 1, 1, 0, 0, 1, 0, 1,\n",
       "       0, 1, 1, 1, 0, 1, 0, 0, 1, 0, 0, 0, 0, 1, 0, 1, 0, 1, 1, 0, 1, 0,\n",
       "       0, 0, 0, 0, 0, 0, 0, 0, 1, 1, 0, 0, 1, 0, 0])"
      ]
     },
     "execution_count": 69,
     "metadata": {},
     "output_type": "execute_result"
    }
   ],
   "source": [
    "resultspred[0:len(resultspred)]\n"
   ]
  },
  {
   "cell_type": "code",
   "execution_count": 71,
   "metadata": {},
   "outputs": [
    {
     "data": {
      "text/plain": [
       "2693    1\n",
       "791     0\n",
       "227     0\n",
       "2671    1\n",
       "104     0\n",
       "       ..\n",
       "2600    1\n",
       "1068    0\n",
       "1698    1\n",
       "1061    0\n",
       "2413    1\n",
       "Name: 45DAYS, Length: 433, dtype: int32"
      ]
     },
     "execution_count": 71,
     "metadata": {},
     "output_type": "execute_result"
    }
   ],
   "source": [
    "y2_test[0:len(y2_test)]"
   ]
  },
  {
   "cell_type": "code",
   "execution_count": null,
   "metadata": {},
   "outputs": [],
   "source": []
  },
  {
   "cell_type": "code",
   "execution_count": 78,
   "metadata": {},
   "outputs": [
    {
     "ename": "ModuleNotFoundError",
     "evalue": "No module named 'plotly'",
     "output_type": "error",
     "traceback": [
      "\u001b[1;31m---------------------------------------------------------------------------\u001b[0m",
      "\u001b[1;31mModuleNotFoundError\u001b[0m                       Traceback (most recent call last)",
      "\u001b[1;32m<ipython-input-78-ace1ec0df28c>\u001b[0m in \u001b[0;36m<module>\u001b[1;34m\u001b[0m\n\u001b[1;32m----> 1\u001b[1;33m \u001b[1;32mimport\u001b[0m \u001b[0mplotly\u001b[0m\u001b[1;33m.\u001b[0m\u001b[0mgraph_objects\u001b[0m \u001b[1;32mas\u001b[0m \u001b[0mgo\u001b[0m\u001b[1;33m\u001b[0m\u001b[1;33m\u001b[0m\u001b[0m\n\u001b[0m\u001b[0;32m      2\u001b[0m \u001b[1;33m\u001b[0m\u001b[0m\n\u001b[0;32m      3\u001b[0m fig = go.Figure(data=[go.Table(\n\u001b[0;32m      4\u001b[0m     header=dict(values=['resultspred', 'y2_test'],\n\u001b[0;32m      5\u001b[0m                 \u001b[0mline_color\u001b[0m\u001b[1;33m=\u001b[0m\u001b[1;34m'darkslategray'\u001b[0m\u001b[1;33m,\u001b[0m\u001b[1;33m\u001b[0m\u001b[1;33m\u001b[0m\u001b[0m\n",
      "\u001b[1;31mModuleNotFoundError\u001b[0m: No module named 'plotly'"
     ]
    }
   ],
   "source": [
    "import plotly.graph_objects as go\n",
    "\n",
    "fig = go.Figure(data=[go.Table(\n",
    "    header=dict(values=['resultspred', 'y2_test'],\n",
    "                line_color='darkslategray',\n",
    "                fill_color='lightskyblue',\n",
    "                align='left'),\n",
    "    cells=dict(values=[resultspred[0:len(resultspred)], # 1st column\n",
    "                       y2_test[0:len(resultspred)]], # 2nd column\n",
    "               line_color='darkslategray',\n",
    "               fill_color='lightcyan',\n",
    "               align='left'))\n",
    "])\n",
    "\n",
    "fig.update_layout(width=500, height=300)\n",
    "fig.show()"
   ]
  },
  {
   "cell_type": "code",
   "execution_count": 206,
   "metadata": {},
   "outputs": [
    {
     "name": "stdout",
     "output_type": "stream",
     "text": [
      "0.7875288683602771\n"
     ]
    }
   ],
   "source": [
    "# load the model from disk\n",
    "loaded_model = pickle.load(open(filename, 'rb'))\n",
    "result = loaded_model.score(Xb_test_uncorr, y2_test)\n",
    "\n",
    "print(result)"
   ]
  },
  {
   "cell_type": "markdown",
   "metadata": {},
   "source": [
    "### Boosting "
   ]
  },
  {
   "cell_type": "markdown",
   "metadata": {},
   "source": [
    "### Ada boosting"
   ]
  },
  {
   "cell_type": "code",
   "execution_count": 176,
   "metadata": {},
   "outputs": [
    {
     "name": "stderr",
     "output_type": "stream",
     "text": [
      "c:\\users\\ekvaeri\\appdata\\local\\programs\\python\\python38-32\\lib\\site-packages\\sklearn\\model_selection\\_split.py:293: FutureWarning: Setting a random_state has no effect since shuffle is False. This will raise an error in 0.24. You should leave random_state to its default (None), or set shuffle=True.\n",
      "  warnings.warn(\n"
     ]
    },
    {
     "name": "stdout",
     "output_type": "stream",
     "text": [
      "0.7264559482329517\n",
      "              precision    recall  f1-score   support\n",
      "\n",
      "           0       0.68      0.70      0.69       228\n",
      "           1       0.65      0.63      0.64       205\n",
      "\n",
      "    accuracy                           0.67       433\n",
      "   macro avg       0.67      0.67      0.67       433\n",
      "weighted avg       0.67      0.67      0.67       433\n",
      "\n",
      "Accuracy: 0.73 (+/- 0.04)\n"
     ]
    }
   ],
   "source": [
    "\n",
    "# AdaBoost Classification\n",
    "import pandas\n",
    "from sklearn import model_selection\n",
    "from sklearn.ensemble import AdaBoostClassifier\n",
    "seed = 7\n",
    "num_trees = 30\n",
    "kfold = model_selection.KFold(n_splits=10, random_state=seed)\n",
    "model = AdaBoostClassifier(n_estimators=num_trees, random_state=seed)\n",
    "results = model_selection.cross_val_score(model, Xb_train_uncorr, y2_train, cv=kfold)\n",
    "print(results.mean())\n",
    "\n",
    "resultspred = cross_val_predict(model,Xb_test_uncorr, y2_test, cv=kfold)\n",
    "\n",
    "\n",
    "print(classification_report(y2_test, resultspred ))\n",
    "\n",
    "print(\"Accuracy: %0.2f (+/- %0.2f)\" % (results.mean(), results.std() * 2))"
   ]
  },
  {
   "cell_type": "markdown",
   "metadata": {},
   "source": [
    "### Stochastic gradient boosting"
   ]
  },
  {
   "cell_type": "code",
   "execution_count": 177,
   "metadata": {},
   "outputs": [
    {
     "name": "stderr",
     "output_type": "stream",
     "text": [
      "c:\\users\\ekvaeri\\appdata\\local\\programs\\python\\python38-32\\lib\\site-packages\\sklearn\\model_selection\\_split.py:293: FutureWarning: Setting a random_state has no effect since shuffle is False. This will raise an error in 0.24. You should leave random_state to its default (None), or set shuffle=True.\n",
      "  warnings.warn(\n"
     ]
    },
    {
     "name": "stdout",
     "output_type": "stream",
     "text": [
      "0.7712974946075992\n",
      "              precision    recall  f1-score   support\n",
      "\n",
      "           0       0.67      0.68      0.67       228\n",
      "           1       0.64      0.63      0.63       205\n",
      "\n",
      "    accuracy                           0.65       433\n",
      "   macro avg       0.65      0.65      0.65       433\n",
      "weighted avg       0.65      0.65      0.65       433\n",
      "\n",
      "Accuracy: 0.77 (+/- 0.03)\n"
     ]
    }
   ],
   "source": [
    "import pandas\n",
    "from sklearn import model_selection\n",
    "from sklearn.ensemble import GradientBoostingClassifier\n",
    "seed = 7\n",
    "num_trees = 100\n",
    "kfold = model_selection.KFold(n_splits=10, random_state=seed)\n",
    "model = GradientBoostingClassifier(n_estimators=num_trees, random_state=seed)\n",
    "results = model_selection.cross_val_score(model, Xb_train_uncorr, y2_train, cv=kfold)\n",
    "print(results.mean())\n",
    "\n",
    "resultspred = cross_val_predict(model,Xb_test_uncorr, y2_test, cv=kfold)\n",
    "\n",
    "\n",
    "print(classification_report(y2_test, resultspred ))\n",
    "\n",
    "print(\"Accuracy: %0.2f (+/- %0.2f)\" % (results.mean(), results.std() * 2))"
   ]
  },
  {
   "cell_type": "markdown",
   "metadata": {},
   "source": [
    "## Voting Ensemble for Classification"
   ]
  },
  {
   "cell_type": "code",
   "execution_count": 178,
   "metadata": {},
   "outputs": [
    {
     "name": "stderr",
     "output_type": "stream",
     "text": [
      "c:\\users\\ekvaeri\\appdata\\local\\programs\\python\\python38-32\\lib\\site-packages\\sklearn\\model_selection\\_split.py:293: FutureWarning: Setting a random_state has no effect since shuffle is False. This will raise an error in 0.24. You should leave random_state to its default (None), or set shuffle=True.\n",
      "  warnings.warn(\n"
     ]
    },
    {
     "name": "stdout",
     "output_type": "stream",
     "text": [
      "0.7545710967313755\n",
      "              precision    recall  f1-score   support\n",
      "\n",
      "           0       0.67      0.68      0.67       228\n",
      "           1       0.64      0.63      0.63       205\n",
      "\n",
      "    accuracy                           0.65       433\n",
      "   macro avg       0.65      0.65      0.65       433\n",
      "weighted avg       0.65      0.65      0.65       433\n",
      "\n",
      "Accuracy: 0.75 (+/- 0.04)\n"
     ]
    }
   ],
   "source": [
    "\n",
    "# Voting Ensemble for Classification\n",
    "import pandas\n",
    "from sklearn import model_selection\n",
    "from sklearn.linear_model import LogisticRegression\n",
    "from sklearn.tree import DecisionTreeClassifier\n",
    "from sklearn.svm import SVC\n",
    "from sklearn.ensemble import VotingClassifier\n",
    "\n",
    "seed = 7\n",
    "kfold = model_selection.KFold(n_splits=10, random_state=seed)\n",
    "# create the sub models\n",
    "estimators = []\n",
    "model1 = LogisticRegression()\n",
    "estimators.append(('logistic', model1))\n",
    "model2 = DecisionTreeClassifier()\n",
    "estimators.append(('cart', model2))\n",
    "model3 = SVC()\n",
    "estimators.append(('svm', model3))\n",
    "# create the ensemble model\n",
    "ensemble = VotingClassifier(estimators)\n",
    "results = model_selection.cross_val_score(ensemble,Xb_train_uncorr, y2_train, cv=kfold)\n",
    "print(results.mean())\n",
    "\n",
    "resultspred = cross_val_predict(model,Xb_test_uncorr, y2_test, cv=kfold)\n",
    "\n",
    "\n",
    "print(classification_report(y2_test, resultspred ))\n",
    "\n",
    "print(\"Accuracy: %0.2f (+/- %0.2f)\" % (results.mean(), results.std() * 2))"
   ]
  },
  {
   "cell_type": "markdown",
   "metadata": {},
   "source": [
    "## Logistic Regression Coefficient L1 regularization  unbalanced target"
   ]
  },
  {
   "cell_type": "code",
   "execution_count": 179,
   "metadata": {},
   "outputs": [
    {
     "data": {
      "text/plain": [
       "array([[-0.33105217, -0.04836405, -0.15178237,  0.10229079, -0.08840078,\n",
       "        -0.22573294,  0.28513925, -0.29663504,  0.03982429,  0.18255725,\n",
       "         0.02179852,  0.10132102, -0.05578155,  0.22315813,  0.02456136,\n",
       "         0.35077328, -0.32004546,  0.41337091,  0.08030858,  0.32004287,\n",
       "        -0.33403522, -0.09496892,  0.33352121,  0.2229786 ,  0.20387046,\n",
       "        -0.08334491, -0.08664431, -0.71571566, -0.10238781, -0.26785649,\n",
       "         0.48863564,  0.63168148, -0.48663979,  0.2432536 ,  0.19611294,\n",
       "        -0.24509877, -0.10599628,  0.19811717, -0.01396237,  0.03061945,\n",
       "         0.03922881,  0.27347855, -0.12958619, -0.12881809,  0.02339712,\n",
       "        -0.02710839,  0.34549493,  0.06571725,  0.04750426,  0.01010121,\n",
       "         0.18433892, -0.01192501,  0.06712962, -0.4249011 , -0.19866568,\n",
       "        -0.04319213, -0.05855516, -0.03618723]])"
      ]
     },
     "execution_count": 179,
     "metadata": {},
     "output_type": "execute_result"
    }
   ],
   "source": [
    "from sklearn.linear_model import LogisticRegression\n",
    "from sklearn.feature_selection import SelectFromModel\n",
    "sel= SelectFromModel(LogisticRegression(penalty='l1', C=10, solver='liblinear'))\n",
    "sel.fit(Xb_train_uncorr,y2_train)\n",
    "sel.get_support()\n",
    "sel.estimator_.coef_"
   ]
  },
  {
   "cell_type": "code",
   "execution_count": 180,
   "metadata": {},
   "outputs": [
    {
     "data": {
      "text/plain": [
       "array([[-0.33105217, -0.04836405, -0.15178237,  0.10229079, -0.08840078,\n",
       "        -0.22573294,  0.28513925, -0.29663504,  0.03982429,  0.18255725,\n",
       "         0.02179852,  0.10132102, -0.05578155,  0.22315813,  0.02456136,\n",
       "         0.35077328, -0.32004546,  0.41337091,  0.08030858,  0.32004287,\n",
       "        -0.33403522, -0.09496892,  0.33352121,  0.2229786 ,  0.20387046,\n",
       "        -0.08334491, -0.08664431, -0.71571566, -0.10238781, -0.26785649,\n",
       "         0.48863564,  0.63168148, -0.48663979,  0.2432536 ,  0.19611294,\n",
       "        -0.24509877, -0.10599628,  0.19811717, -0.01396237,  0.03061945,\n",
       "         0.03922881,  0.27347855, -0.12958619, -0.12881809,  0.02339712,\n",
       "        -0.02710839,  0.34549493,  0.06571725,  0.04750426,  0.01010121,\n",
       "         0.18433892, -0.01192501,  0.06712962, -0.4249011 , -0.19866568,\n",
       "        -0.04319213, -0.05855516, -0.03618723]])"
      ]
     },
     "execution_count": 180,
     "metadata": {},
     "output_type": "execute_result"
    }
   ],
   "source": [
    "sel.estimator_.coef_"
   ]
  },
  {
   "cell_type": "code",
   "execution_count": 181,
   "metadata": {},
   "outputs": [],
   "source": [
    "X_train_l1=sel.transform(Xb_train_uncorr)\n",
    "X_test_l1=sel.transform(Xb_test_uncorr)"
   ]
  },
  {
   "cell_type": "code",
   "execution_count": 182,
   "metadata": {},
   "outputs": [
    {
     "name": "stdout",
     "output_type": "stream",
     "text": [
      "[[172  56]\n",
      " [ 86 119]]\n",
      "              precision    recall  f1-score   support\n",
      "\n",
      "           0       0.67      0.75      0.71       228\n",
      "           1       0.68      0.58      0.63       205\n",
      "\n",
      "    accuracy                           0.67       433\n",
      "   macro avg       0.67      0.67      0.67       433\n",
      "weighted avg       0.67      0.67      0.67       433\n",
      "\n",
      "Accuracy: 0.68 (+/- 0.15)\n"
     ]
    }
   ],
   "source": [
    "from sklearn.ensemble import RandomForestClassifier\n",
    "\n",
    " \n",
    "# Train model\n",
    "clf_4 = RandomForestClassifier(random_state=42,criterion='entropy',n_estimators=100,max_leaf_nodes=10,\n",
    "min_samples_split=10,\n",
    "min_samples_leaf=2,\n",
    "max_features= 'sqrt',\n",
    "max_depth=20,\n",
    "bootstrap= False, n_jobs=-1)\n",
    "clf_4=clf_4.fit(X_train_l1, y2_train)\n",
    "\n",
    "\n",
    "scores2=cross_val_score(clf_4, X_test_l1, y2_test, cv=Skfold)\n",
    "ypred = cross_val_predict(clf_4, X_test_l1, y2_test, cv=3)\n",
    "# Predict on training set\n",
    "#pred_y_4 = clf_4.predict(X_test_l1)\n",
    " \n",
    "# Is our model still predicting just one class?\n",
    "#print( np.unique( ypred ) )\n",
    "# [0 1]\n",
    " \n",
    "# How's our accuracy?\n",
    "#print(\"Accuracy balanced target\")\n",
    "#print( accuracy_score(y2_test, ypred) )\n",
    "# 0.9744\n",
    "from sklearn.metrics import classification_report\n",
    "from sklearn.metrics import confusion_matrix\n",
    "print(confusion_matrix(y2_test, ypred))\n",
    "print(classification_report(y2_test, ypred))\n",
    "\n",
    "print(\"Accuracy: %0.2f (+/- %0.2f)\" % (scores2.mean(), scores2.std() * 2))"
   ]
  },
  {
   "cell_type": "markdown",
   "metadata": {},
   "source": [
    "## Logistic Regression Coefficient L2 regularization  unbalanced target"
   ]
  },
  {
   "cell_type": "code",
   "execution_count": 183,
   "metadata": {},
   "outputs": [
    {
     "data": {
      "text/plain": [
       "array([ True, False, False, False, False,  True,  True,  True, False,\n",
       "       False, False, False, False,  True, False,  True,  True,  True,\n",
       "       False,  True,  True, False,  True,  True,  True, False, False,\n",
       "        True, False,  True,  True,  True,  True,  True,  True,  True,\n",
       "       False,  True, False, False, False,  True, False, False, False,\n",
       "       False,  True, False, False, False, False, False, False,  True,\n",
       "        True, False, False, False])"
      ]
     },
     "execution_count": 183,
     "metadata": {},
     "output_type": "execute_result"
    }
   ],
   "source": [
    "sel= SelectFromModel(LogisticRegression(penalty='l2', C=10, solver='liblinear'))\n",
    "sel.fit(Xb_train_uncorr,y2_train)\n",
    "sel.get_support()"
   ]
  },
  {
   "cell_type": "code",
   "execution_count": null,
   "metadata": {},
   "outputs": [],
   "source": []
  },
  {
   "cell_type": "code",
   "execution_count": 184,
   "metadata": {},
   "outputs": [],
   "source": [
    "X_train_l2=sel.transform(Xb_train_uncorr)\n",
    "X_test_l2=sel.transform(Xb_test_uncorr)"
   ]
  },
  {
   "cell_type": "code",
   "execution_count": 185,
   "metadata": {},
   "outputs": [
    {
     "name": "stdout",
     "output_type": "stream",
     "text": [
      "[[160  68]\n",
      " [ 88 117]]\n",
      "              precision    recall  f1-score   support\n",
      "\n",
      "           0       0.65      0.70      0.67       228\n",
      "           1       0.63      0.57      0.60       205\n",
      "\n",
      "    accuracy                           0.64       433\n",
      "   macro avg       0.64      0.64      0.64       433\n",
      "weighted avg       0.64      0.64      0.64       433\n",
      "\n",
      "Accuracy: 0.67 (+/- 0.12)\n"
     ]
    }
   ],
   "source": [
    "from sklearn.ensemble import RandomForestClassifier\n",
    "\n",
    " \n",
    "# Train model\n",
    "clf_4 = RandomForestClassifier(random_state=42,criterion='entropy',n_estimators=100,max_leaf_nodes=10,\n",
    "min_samples_split=10,\n",
    "min_samples_leaf=2,\n",
    "max_features= 'sqrt',\n",
    "max_depth=20,\n",
    "bootstrap= False, n_jobs=-1)\n",
    "clf_4=clf_4.fit(X_train_l2, y2_train)\n",
    "\n",
    "\n",
    "scores2=cross_val_score(clf_4, X_test_l2, y2_test, cv=Skfold)\n",
    "ypred = cross_val_predict(clf_4, X_test_l2, y2_test, cv=3)\n",
    "# Predict on training set\n",
    "#pred_y_4 = clf_4.predict(X_test_l1)\n",
    " \n",
    "# Is our model still predicting just one class?\n",
    "#print( np.unique( ypred ) )\n",
    "# [0 1]\n",
    " \n",
    "# How's our accuracy?\n",
    "#print(\"Accuracy balanced target\")\n",
    "#print( accuracy_score(y2_test, ypred) )\n",
    "# 0.9744\n",
    "from sklearn.metrics import classification_report\n",
    "from sklearn.metrics import confusion_matrix\n",
    "print(confusion_matrix(y2_test, ypred))\n",
    "print(classification_report(y2_test, ypred))\n",
    "\n",
    "print(\"Accuracy: %0.2f (+/- %0.2f)\" % (scores2.mean(), scores2.std() * 2))"
   ]
  },
  {
   "cell_type": "markdown",
   "metadata": {},
   "source": [
    "### Feature dimension reduction by LDA ir IS it a Classifier"
   ]
  },
  {
   "cell_type": "code",
   "execution_count": 186,
   "metadata": {},
   "outputs": [],
   "source": [
    "from sklearn.discriminant_analysis import LinearDiscriminantAnalysis as LDA "
   ]
  },
  {
   "cell_type": "code",
   "execution_count": 187,
   "metadata": {},
   "outputs": [],
   "source": [
    "lda=LDA(n_components=1)\n"
   ]
  },
  {
   "cell_type": "code",
   "execution_count": 188,
   "metadata": {},
   "outputs": [],
   "source": [
    "Xb_train_lda=lda.fit_transform(Xb_train_uncorr,y2_train)"
   ]
  },
  {
   "cell_type": "code",
   "execution_count": 189,
   "metadata": {},
   "outputs": [
    {
     "data": {
      "text/plain": [
       "(2453, 1)"
      ]
     },
     "execution_count": 189,
     "metadata": {},
     "output_type": "execute_result"
    }
   ],
   "source": [
    "Xb_train_lda.shape"
   ]
  },
  {
   "cell_type": "code",
   "execution_count": 190,
   "metadata": {},
   "outputs": [],
   "source": [
    "Xb_test_lda=lda.transform(Xb_test_uncorr)"
   ]
  },
  {
   "cell_type": "code",
   "execution_count": 191,
   "metadata": {},
   "outputs": [
    {
     "name": "stdout",
     "output_type": "stream",
     "text": [
      "[[166  62]\n",
      " [ 69 136]]\n",
      "              precision    recall  f1-score   support\n",
      "\n",
      "           0       0.71      0.73      0.72       228\n",
      "           1       0.69      0.66      0.67       205\n",
      "\n",
      "    accuracy                           0.70       433\n",
      "   macro avg       0.70      0.70      0.70       433\n",
      "weighted avg       0.70      0.70      0.70       433\n",
      "\n",
      "Accuracy: 0.68 (+/- 0.21)\n"
     ]
    }
   ],
   "source": [
    "from sklearn.ensemble import RandomForestClassifier\n",
    "\n",
    " \n",
    "# Train model\n",
    "clf_4 = RandomForestClassifier(random_state=42,criterion='entropy',n_estimators=100,max_leaf_nodes=10,\n",
    "min_samples_split=10,\n",
    "min_samples_leaf=2,\n",
    "max_features= 'sqrt',\n",
    "max_depth=20,\n",
    "bootstrap= False, n_jobs=-1)\n",
    "clf_4=clf_4.fit(Xb_train_lda, y2_train)\n",
    "\n",
    "\n",
    "scores2=cross_val_score(clf_4, Xb_test_lda, y2_test, cv=Skfold)\n",
    "ypred = cross_val_predict(clf_4, Xb_test_lda, y2_test, cv=3)\n",
    "# Predict on training set\n",
    "#pred_y_4 = clf_4.predict(X_test_l1)\n",
    " \n",
    "# Is our model still predicting just one class?\n",
    "#print( np.unique( ypred ) )\n",
    "# [0 1]\n",
    " \n",
    "# How's our accuracy?\n",
    "#print(\"Accuracy balanced target\")\n",
    "#print( accuracy_score(y2_test, ypred) )\n",
    "# 0.9744\n",
    "from sklearn.metrics import classification_report\n",
    "from sklearn.metrics import confusion_matrix\n",
    "print(confusion_matrix(y2_test, ypred))\n",
    "print(classification_report(y2_test, ypred))\n",
    "\n",
    "print(\"Accuracy: %0.2f (+/- %0.2f)\" % (scores2.mean(), scores2.std() * 2))"
   ]
  },
  {
   "cell_type": "markdown",
   "metadata": {},
   "source": [
    "### Feature Reduction by PCA "
   ]
  },
  {
   "cell_type": "code",
   "execution_count": 192,
   "metadata": {},
   "outputs": [],
   "source": [
    "from sklearn.decomposition import PCA"
   ]
  },
  {
   "cell_type": "code",
   "execution_count": 193,
   "metadata": {},
   "outputs": [
    {
     "data": {
      "text/plain": [
       "PCA(n_components=39, random_state=42)"
      ]
     },
     "execution_count": 193,
     "metadata": {},
     "output_type": "execute_result"
    }
   ],
   "source": [
    "pca=PCA(n_components=39,random_state=42)\n",
    "pca.fit(Xb_test_uncorr)"
   ]
  },
  {
   "cell_type": "markdown",
   "metadata": {},
   "source": [
    "Increasing the number of components increases the accuracy"
   ]
  },
  {
   "cell_type": "code",
   "execution_count": 194,
   "metadata": {},
   "outputs": [
    {
     "data": {
      "text/plain": [
       "((2453, 39), (433, 39))"
      ]
     },
     "execution_count": 194,
     "metadata": {},
     "output_type": "execute_result"
    }
   ],
   "source": [
    "Xb_train_pca=pca.transform(Xb_train_uncorr)\n",
    "Xb_test_pca=pca.transform(Xb_test_uncorr)\n",
    "Xb_train_pca.shape,Xb_test_pca.shape"
   ]
  },
  {
   "cell_type": "code",
   "execution_count": 195,
   "metadata": {},
   "outputs": [
    {
     "name": "stdout",
     "output_type": "stream",
     "text": [
      "[[162  66]\n",
      " [ 93 112]]\n",
      "              precision    recall  f1-score   support\n",
      "\n",
      "           0       0.64      0.71      0.67       228\n",
      "           1       0.63      0.55      0.58       205\n",
      "\n",
      "    accuracy                           0.63       433\n",
      "   macro avg       0.63      0.63      0.63       433\n",
      "weighted avg       0.63      0.63      0.63       433\n",
      "\n",
      "Accuracy: 0.63 (+/- 0.09)\n"
     ]
    }
   ],
   "source": [
    "from sklearn.ensemble import RandomForestClassifier\n",
    "\n",
    " \n",
    "# Train model\n",
    "clf_4 = RandomForestClassifier(random_state=42,criterion='entropy',n_estimators=100,max_leaf_nodes=10,\n",
    "min_samples_split=10,\n",
    "min_samples_leaf=2,\n",
    "max_features= 'sqrt',\n",
    "max_depth=20,\n",
    "bootstrap= False, n_jobs=-1)\n",
    "clf_4=clf_4.fit(Xb_train_pca, y2_train)\n",
    "\n",
    "\n",
    "scores2=cross_val_score(clf_4, Xb_test_pca, y2_test, cv=Skfold)\n",
    "ypred = cross_val_predict(clf_4, Xb_test_pca, y2_test, cv=3)\n",
    "# Predict on training set\n",
    "#pred_y_4 = clf_4.predict(X_test_l1)\n",
    " \n",
    "# Is our model still predicting just one class?\n",
    "#print( np.unique( ypred ) )\n",
    "# [0 1]\n",
    " \n",
    "# How's our accuracy?\n",
    "#print(\"Accuracy balanced target\")\n",
    "#print( accuracy_score(y2_test, ypred) )\n",
    "# 0.9744\n",
    "from sklearn.metrics import classification_report\n",
    "from sklearn.metrics import confusion_matrix\n",
    "print(confusion_matrix(y2_test, ypred))\n",
    "print(classification_report(y2_test, ypred))\n",
    "\n",
    "print(\"Accuracy: %0.2f (+/- %0.2f)\" % (scores2.mean(), scores2.std() * 2))"
   ]
  },
  {
   "cell_type": "markdown",
   "metadata": {},
   "source": [
    "## K NN"
   ]
  },
  {
   "cell_type": "markdown",
   "metadata": {},
   "source": [
    "Optimizar k "
   ]
  },
  {
   "cell_type": "code",
   "execution_count": 196,
   "metadata": {},
   "outputs": [
    {
     "data": {
      "text/plain": [
       "([<matplotlib.axis.XTick at 0x1f5257d8>,\n",
       "  <matplotlib.axis.XTick at 0x1f6a8730>,\n",
       "  <matplotlib.axis.XTick at 0x200454f0>,\n",
       "  <matplotlib.axis.XTick at 0x1f52a358>,\n",
       "  <matplotlib.axis.XTick at 0x264732c8>],\n",
       " <a list of 5 Text major ticklabel objects>)"
      ]
     },
     "execution_count": 196,
     "metadata": {},
     "output_type": "execute_result"
    },
    {
     "data": {
      "image/png": "[encoded data removed]",
      "text/plain": [
       "<Figure size 432x288 with 1 Axes>"
      ]
     },
     "metadata": {},
     "output_type": "display_data"
    }
   ],
   "source": [
    "from sklearn.neighbors import KNeighborsClassifier\n",
    "k_range = range(1, 20)\n",
    "scores = []\n",
    "for k in k_range:\n",
    "    knn = KNeighborsClassifier(n_neighbors = k)\n",
    "    knn.fit(Xb_train_uncorr, y2_train)\n",
    "    scores.append(knn.score(Xb_test_uncorr, y2_test))\n",
    "plt.figure()\n",
    "plt.xlabel('k')\n",
    "plt.ylabel('accuracy')\n",
    "plt.scatter(k_range, scores)\n",
    "plt.xticks([0,5,10,15,20])"
   ]
  },
  {
   "cell_type": "markdown",
   "metadata": {},
   "source": [
    "Usando k=20"
   ]
  },
  {
   "cell_type": "code",
   "execution_count": 197,
   "metadata": {},
   "outputs": [
    {
     "name": "stdout",
     "output_type": "stream",
     "text": [
      "Accuracy of K-NN classifier on training set: 0.81\n",
      "Accuracy of K-NN classifier on test set: 0.75\n",
      "[[176  52]\n",
      " [ 57 148]]\n",
      "              precision    recall  f1-score   support\n",
      "\n",
      "           0       0.76      0.77      0.76       228\n",
      "           1       0.74      0.72      0.73       205\n",
      "\n",
      "    accuracy                           0.75       433\n",
      "   macro avg       0.75      0.75      0.75       433\n",
      "weighted avg       0.75      0.75      0.75       433\n",
      "\n",
      "Accuracy: 0.73 (+/- 0.03)\n"
     ]
    }
   ],
   "source": [
    "from sklearn.neighbors import KNeighborsClassifier\n",
    "\n",
    "n_neighbors=7\n",
    "\n",
    "knn = KNeighborsClassifier(n_neighbors)\n",
    "knn.fit(Xb_train_uncorr, y2_train)\n",
    "print('Accuracy of K-NN classifier on training set: {:.2f}'\n",
    "     .format(knn.score(Xb_train_uncorr, y2_train)))\n",
    "print('Accuracy of K-NN classifier on test set: {:.2f}'\n",
    "     .format(knn.score(Xb_test_uncorr, y2_test)))\n",
    "\n",
    "scores = cross_val_score(knn, Xb_train_uncorr, y2_train, cv=5)\n",
    "\n",
    "pred = knn.predict(Xb_test_uncorr)\n",
    "print(confusion_matrix(y2_test, pred))\n",
    "print(classification_report(y2_test, pred))\n",
    "\n",
    "print(\"Accuracy: %0.2f (+/- %0.2f)\" % (scores.mean(), scores.std() * 2))"
   ]
  },
  {
   "cell_type": "markdown",
   "metadata": {},
   "source": [
    "SVM "
   ]
  },
  {
   "cell_type": "code",
   "execution_count": 198,
   "metadata": {},
   "outputs": [
    {
     "name": "stdout",
     "output_type": "stream",
     "text": [
      "Accuracy of SVM classifier on training set: 0.72\n",
      "Accuracy of SVM classifier on test set: 0.71\n",
      "[[161  67]\n",
      " [ 59 146]]\n",
      "              precision    recall  f1-score   support\n",
      "\n",
      "           0       0.73      0.71      0.72       228\n",
      "           1       0.69      0.71      0.70       205\n",
      "\n",
      "    accuracy                           0.71       433\n",
      "   macro avg       0.71      0.71      0.71       433\n",
      "weighted avg       0.71      0.71      0.71       433\n",
      "\n",
      "Accuracy: 0.70 (+/- 0.04)\n"
     ]
    }
   ],
   "source": [
    "from sklearn.svm import SVC\n",
    "from sklearn import svm\n",
    "\n",
    "clf = svm.SVC(kernel='linear', C=1)\n",
    "clf.fit(Xb_train_uncorr, y2_train)\n",
    "print('Accuracy of SVM classifier on training set: {:.2f}'\n",
    "     .format(clf.score(Xb_train_uncorr, y2_train)))\n",
    "print('Accuracy of SVM classifier on test set: {:.2f}'\n",
    "     .format(clf.score(Xb_test_uncorr, y2_test)))\n",
    "\n",
    "scores = cross_val_score(clf, Xb_train_uncorr, y2_train, cv=5)\n",
    "\n",
    "pred = clf.predict(Xb_test_uncorr)\n",
    "print(confusion_matrix(y2_test, pred))\n",
    "print(classification_report(y2_test, pred))\n",
    "\n",
    "print(\"Accuracy: %0.2f (+/- %0.2f)\" % (scores.mean(), scores.std() * 2))"
   ]
  },
  {
   "cell_type": "markdown",
   "metadata": {},
   "source": [
    "Log Regression"
   ]
  },
  {
   "cell_type": "code",
   "execution_count": 199,
   "metadata": {},
   "outputs": [
    {
     "name": "stdout",
     "output_type": "stream",
     "text": [
      "Accuracy of SVM classifier on training set: 0.72\n",
      "Accuracy of SVM classifier on test set: 0.70\n",
      "[[159  69]\n",
      " [ 59 146]]\n",
      "              precision    recall  f1-score   support\n",
      "\n",
      "           0       0.73      0.70      0.71       228\n",
      "           1       0.68      0.71      0.70       205\n",
      "\n",
      "    accuracy                           0.70       433\n",
      "   macro avg       0.70      0.70      0.70       433\n",
      "weighted avg       0.71      0.70      0.70       433\n",
      "\n",
      "Accuracy: 0.69 (+/- 0.04)\n"
     ]
    }
   ],
   "source": [
    "from sklearn.linear_model import LogisticRegressionCV\n",
    "\n",
    "clf = LogisticRegressionCV(cv=5, random_state=0).fit(Xb_train_uncorr, y2_train)\n",
    "\n",
    "\n",
    "print('Accuracy of SVM classifier on training set: {:.2f}'\n",
    "     .format(clf.score(Xb_train_uncorr, y2_train)))\n",
    "print('Accuracy of SVM classifier on test set: {:.2f}'\n",
    "     .format(clf.score(Xb_test_uncorr, y2_test)))\n",
    "\n",
    "scores = cross_val_score(clf, Xb_train_uncorr, y2_train, cv=5)\n",
    "\n",
    "pred = clf.predict(Xb_test_uncorr)\n",
    "print(confusion_matrix(y2_test, pred))\n",
    "print(classification_report(y2_test, pred))\n",
    "\n",
    "print(\"Accuracy: %0.2f (+/- %0.2f)\" % (scores.mean(), scores.std() * 2))"
   ]
  },
  {
   "cell_type": "code",
   "execution_count": null,
   "metadata": {},
   "outputs": [],
   "source": []
  }
 ],
 "metadata": {
  "kernelspec": {
   "display_name": "Python 3",
   "language": "python",
   "name": "python3"
  },
  "language_info": {
   "codemirror_mode": {
    "name": "ipython",
    "version": 3
   },
   "file_extension": ".py",
   "mimetype": "text/x-python",
   "name": "python",
   "nbconvert_exporter": "python",
   "pygments_lexer": "ipython3",
   "version": "3.8.1"
  }
 },
 "nbformat": 4,
 "nbformat_minor": 4
}
